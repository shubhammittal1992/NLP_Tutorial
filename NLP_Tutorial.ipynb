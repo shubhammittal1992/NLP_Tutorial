{
  "nbformat": 4,
  "nbformat_minor": 0,
  "metadata": {
    "colab": {
      "name": "NLP_Tutorial.ipynb",
      "provenance": [],
      "collapsed_sections": []
    },
    "kernelspec": {
      "name": "python3",
      "display_name": "Python 3"
    }
  },
  "cells": [
    {
      "cell_type": "markdown",
      "metadata": {
        "id": "lJiuIkXKjBS8",
        "colab_type": "text"
      },
      "source": [
        "TUTORIAL ON NATURAL LANGUAGE PROCESSING\n",
        "\n",
        "NAME : SHUBHAM MITTAL"
      ]
    },
    {
      "cell_type": "markdown",
      "metadata": {
        "id": "WNT3qGBHk3ME",
        "colab_type": "text"
      },
      "source": [
        "## TEXT MINING"
      ]
    },
    {
      "cell_type": "markdown",
      "metadata": {
        "id": "4qpCAKuajdPw",
        "colab_type": "text"
      },
      "source": [
        "Text mining is the most important thing one must discover as our data usage is increasing exponentially on a day to day basis. So, it's really important to uncover the patterns in text that we generate. So, i'll be starting with first of all text pre-processing and to be able to start with text pre-processing the very first library that we should start with is NLTK(Natural language Tool-kit). Our Agenda is to extract meaningful information from Natural Language Text."
      ]
    },
    {
      "cell_type": "markdown",
      "metadata": {
        "id": "N48_o_8xk0vN",
        "colab_type": "text"
      },
      "source": [
        "# NATURAL LANGUAGE TOOL-KIT ( NLTK )"
      ]
    },
    {
      "cell_type": "code",
      "metadata": {
        "id": "uNmfFHUnjEJo",
        "colab_type": "code",
        "colab": {
          "base_uri": "https://localhost:8080/",
          "height": 85
        },
        "outputId": "fcef2665-f4b1-43ac-cdea-51481949c86b"
      },
      "source": [
        "import nltk\n",
        "nltk.download('punkt')\n",
        "nltk.download('stopwords')\n",
        "sentence = \"This is a bit of an odd one, but welcome nonetheless. Sony has announced one of the PlayStation 4 games which will make up PlayStation Plus' line-up for June 2020 early in a tweet. It's Call of Duty: WWII. Quite the big addition, isn't it? The Japanese giant states that the other PS4 game which will be a part of the line-up will be revealed later this week. We will, of course, bring you confirmation of that second title here on Push Square when the news breaks.\""
      ],
      "execution_count": 1,
      "outputs": [
        {
          "output_type": "stream",
          "text": [
            "[nltk_data] Downloading package punkt to /root/nltk_data...\n",
            "[nltk_data]   Unzipping tokenizers/punkt.zip.\n",
            "[nltk_data] Downloading package stopwords to /root/nltk_data...\n",
            "[nltk_data]   Unzipping corpora/stopwords.zip.\n"
          ],
          "name": "stdout"
        }
      ]
    },
    {
      "cell_type": "markdown",
      "metadata": {
        "id": "95d6A1belx2V",
        "colab_type": "text"
      },
      "source": [
        "TOKENIZATION -\n",
        "\n",
        "A process of breaking a sentence into many small pieces is known as tokenization."
      ]
    },
    {
      "cell_type": "code",
      "metadata": {
        "id": "rkqu0x8Hls_z",
        "colab_type": "code",
        "colab": {
          "base_uri": "https://localhost:8080/",
          "height": 1000
        },
        "outputId": "2f39a653-cd42-4b4a-dd8c-04a4b8f7676b"
      },
      "source": [
        "tokens = nltk.word_tokenize(sentence,language='english',preserve_line=False)\n",
        "tokens"
      ],
      "execution_count": 2,
      "outputs": [
        {
          "output_type": "execute_result",
          "data": {
            "text/plain": [
              "['This',\n",
              " 'is',\n",
              " 'a',\n",
              " 'bit',\n",
              " 'of',\n",
              " 'an',\n",
              " 'odd',\n",
              " 'one',\n",
              " ',',\n",
              " 'but',\n",
              " 'welcome',\n",
              " 'nonetheless',\n",
              " '.',\n",
              " 'Sony',\n",
              " 'has',\n",
              " 'announced',\n",
              " 'one',\n",
              " 'of',\n",
              " 'the',\n",
              " 'PlayStation',\n",
              " '4',\n",
              " 'games',\n",
              " 'which',\n",
              " 'will',\n",
              " 'make',\n",
              " 'up',\n",
              " 'PlayStation',\n",
              " 'Plus',\n",
              " \"'\",\n",
              " 'line-up',\n",
              " 'for',\n",
              " 'June',\n",
              " '2020',\n",
              " 'early',\n",
              " 'in',\n",
              " 'a',\n",
              " 'tweet',\n",
              " '.',\n",
              " 'It',\n",
              " \"'s\",\n",
              " 'Call',\n",
              " 'of',\n",
              " 'Duty',\n",
              " ':',\n",
              " 'WWII',\n",
              " '.',\n",
              " 'Quite',\n",
              " 'the',\n",
              " 'big',\n",
              " 'addition',\n",
              " ',',\n",
              " 'is',\n",
              " \"n't\",\n",
              " 'it',\n",
              " '?',\n",
              " 'The',\n",
              " 'Japanese',\n",
              " 'giant',\n",
              " 'states',\n",
              " 'that',\n",
              " 'the',\n",
              " 'other',\n",
              " 'PS4',\n",
              " 'game',\n",
              " 'which',\n",
              " 'will',\n",
              " 'be',\n",
              " 'a',\n",
              " 'part',\n",
              " 'of',\n",
              " 'the',\n",
              " 'line-up',\n",
              " 'will',\n",
              " 'be',\n",
              " 'revealed',\n",
              " 'later',\n",
              " 'this',\n",
              " 'week',\n",
              " '.',\n",
              " 'We',\n",
              " 'will',\n",
              " ',',\n",
              " 'of',\n",
              " 'course',\n",
              " ',',\n",
              " 'bring',\n",
              " 'you',\n",
              " 'confirmation',\n",
              " 'of',\n",
              " 'that',\n",
              " 'second',\n",
              " 'title',\n",
              " 'here',\n",
              " 'on',\n",
              " 'Push',\n",
              " 'Square',\n",
              " 'when',\n",
              " 'the',\n",
              " 'news',\n",
              " 'breaks',\n",
              " '.']"
            ]
          },
          "metadata": {
            "tags": []
          },
          "execution_count": 2
        }
      ]
    },
    {
      "cell_type": "code",
      "metadata": {
        "id": "ZcbVRxeaomgV",
        "colab_type": "code",
        "colab": {
          "base_uri": "https://localhost:8080/",
          "height": 119
        },
        "outputId": "c6eb1f1e-7f60-43f9-8df9-3bba8f7e643f"
      },
      "source": [
        "sent_tokens = nltk.sent_tokenize(sentence,language='english')\n",
        "sent_tokens"
      ],
      "execution_count": 3,
      "outputs": [
        {
          "output_type": "execute_result",
          "data": {
            "text/plain": [
              "['This is a bit of an odd one, but welcome nonetheless.',\n",
              " \"Sony has announced one of the PlayStation 4 games which will make up PlayStation Plus' line-up for June 2020 early in a tweet.\",\n",
              " \"It's Call of Duty: WWII.\",\n",
              " \"Quite the big addition, isn't it?\",\n",
              " 'The Japanese giant states that the other PS4 game which will be a part of the line-up will be revealed later this week.',\n",
              " 'We will, of course, bring you confirmation of that second title here on Push Square when the news breaks.']"
            ]
          },
          "metadata": {
            "tags": []
          },
          "execution_count": 3
        }
      ]
    },
    {
      "cell_type": "code",
      "metadata": {
        "id": "IUEzAlm0rnEj",
        "colab_type": "code",
        "colab": {
          "base_uri": "https://localhost:8080/",
          "height": 1000
        },
        "outputId": "f4f00799-dc8a-41ce-f460-160db2d7f210"
      },
      "source": [
        "bigrams = list(nltk.bigrams(tokens))\n",
        "bigrams"
      ],
      "execution_count": 4,
      "outputs": [
        {
          "output_type": "execute_result",
          "data": {
            "text/plain": [
              "[('This', 'is'),\n",
              " ('is', 'a'),\n",
              " ('a', 'bit'),\n",
              " ('bit', 'of'),\n",
              " ('of', 'an'),\n",
              " ('an', 'odd'),\n",
              " ('odd', 'one'),\n",
              " ('one', ','),\n",
              " (',', 'but'),\n",
              " ('but', 'welcome'),\n",
              " ('welcome', 'nonetheless'),\n",
              " ('nonetheless', '.'),\n",
              " ('.', 'Sony'),\n",
              " ('Sony', 'has'),\n",
              " ('has', 'announced'),\n",
              " ('announced', 'one'),\n",
              " ('one', 'of'),\n",
              " ('of', 'the'),\n",
              " ('the', 'PlayStation'),\n",
              " ('PlayStation', '4'),\n",
              " ('4', 'games'),\n",
              " ('games', 'which'),\n",
              " ('which', 'will'),\n",
              " ('will', 'make'),\n",
              " ('make', 'up'),\n",
              " ('up', 'PlayStation'),\n",
              " ('PlayStation', 'Plus'),\n",
              " ('Plus', \"'\"),\n",
              " (\"'\", 'line-up'),\n",
              " ('line-up', 'for'),\n",
              " ('for', 'June'),\n",
              " ('June', '2020'),\n",
              " ('2020', 'early'),\n",
              " ('early', 'in'),\n",
              " ('in', 'a'),\n",
              " ('a', 'tweet'),\n",
              " ('tweet', '.'),\n",
              " ('.', 'It'),\n",
              " ('It', \"'s\"),\n",
              " (\"'s\", 'Call'),\n",
              " ('Call', 'of'),\n",
              " ('of', 'Duty'),\n",
              " ('Duty', ':'),\n",
              " (':', 'WWII'),\n",
              " ('WWII', '.'),\n",
              " ('.', 'Quite'),\n",
              " ('Quite', 'the'),\n",
              " ('the', 'big'),\n",
              " ('big', 'addition'),\n",
              " ('addition', ','),\n",
              " (',', 'is'),\n",
              " ('is', \"n't\"),\n",
              " (\"n't\", 'it'),\n",
              " ('it', '?'),\n",
              " ('?', 'The'),\n",
              " ('The', 'Japanese'),\n",
              " ('Japanese', 'giant'),\n",
              " ('giant', 'states'),\n",
              " ('states', 'that'),\n",
              " ('that', 'the'),\n",
              " ('the', 'other'),\n",
              " ('other', 'PS4'),\n",
              " ('PS4', 'game'),\n",
              " ('game', 'which'),\n",
              " ('which', 'will'),\n",
              " ('will', 'be'),\n",
              " ('be', 'a'),\n",
              " ('a', 'part'),\n",
              " ('part', 'of'),\n",
              " ('of', 'the'),\n",
              " ('the', 'line-up'),\n",
              " ('line-up', 'will'),\n",
              " ('will', 'be'),\n",
              " ('be', 'revealed'),\n",
              " ('revealed', 'later'),\n",
              " ('later', 'this'),\n",
              " ('this', 'week'),\n",
              " ('week', '.'),\n",
              " ('.', 'We'),\n",
              " ('We', 'will'),\n",
              " ('will', ','),\n",
              " (',', 'of'),\n",
              " ('of', 'course'),\n",
              " ('course', ','),\n",
              " (',', 'bring'),\n",
              " ('bring', 'you'),\n",
              " ('you', 'confirmation'),\n",
              " ('confirmation', 'of'),\n",
              " ('of', 'that'),\n",
              " ('that', 'second'),\n",
              " ('second', 'title'),\n",
              " ('title', 'here'),\n",
              " ('here', 'on'),\n",
              " ('on', 'Push'),\n",
              " ('Push', 'Square'),\n",
              " ('Square', 'when'),\n",
              " ('when', 'the'),\n",
              " ('the', 'news'),\n",
              " ('news', 'breaks'),\n",
              " ('breaks', '.')]"
            ]
          },
          "metadata": {
            "tags": []
          },
          "execution_count": 4
        }
      ]
    },
    {
      "cell_type": "code",
      "metadata": {
        "id": "4SFYlo_-uTOf",
        "colab_type": "code",
        "colab": {
          "base_uri": "https://localhost:8080/",
          "height": 1000
        },
        "outputId": "2ab0f834-7283-409a-a713-bde8b8a7c943"
      },
      "source": [
        "trigrams = list(nltk.trigrams(tokens))\n",
        "trigrams"
      ],
      "execution_count": 5,
      "outputs": [
        {
          "output_type": "execute_result",
          "data": {
            "text/plain": [
              "[('This', 'is', 'a'),\n",
              " ('is', 'a', 'bit'),\n",
              " ('a', 'bit', 'of'),\n",
              " ('bit', 'of', 'an'),\n",
              " ('of', 'an', 'odd'),\n",
              " ('an', 'odd', 'one'),\n",
              " ('odd', 'one', ','),\n",
              " ('one', ',', 'but'),\n",
              " (',', 'but', 'welcome'),\n",
              " ('but', 'welcome', 'nonetheless'),\n",
              " ('welcome', 'nonetheless', '.'),\n",
              " ('nonetheless', '.', 'Sony'),\n",
              " ('.', 'Sony', 'has'),\n",
              " ('Sony', 'has', 'announced'),\n",
              " ('has', 'announced', 'one'),\n",
              " ('announced', 'one', 'of'),\n",
              " ('one', 'of', 'the'),\n",
              " ('of', 'the', 'PlayStation'),\n",
              " ('the', 'PlayStation', '4'),\n",
              " ('PlayStation', '4', 'games'),\n",
              " ('4', 'games', 'which'),\n",
              " ('games', 'which', 'will'),\n",
              " ('which', 'will', 'make'),\n",
              " ('will', 'make', 'up'),\n",
              " ('make', 'up', 'PlayStation'),\n",
              " ('up', 'PlayStation', 'Plus'),\n",
              " ('PlayStation', 'Plus', \"'\"),\n",
              " ('Plus', \"'\", 'line-up'),\n",
              " (\"'\", 'line-up', 'for'),\n",
              " ('line-up', 'for', 'June'),\n",
              " ('for', 'June', '2020'),\n",
              " ('June', '2020', 'early'),\n",
              " ('2020', 'early', 'in'),\n",
              " ('early', 'in', 'a'),\n",
              " ('in', 'a', 'tweet'),\n",
              " ('a', 'tweet', '.'),\n",
              " ('tweet', '.', 'It'),\n",
              " ('.', 'It', \"'s\"),\n",
              " ('It', \"'s\", 'Call'),\n",
              " (\"'s\", 'Call', 'of'),\n",
              " ('Call', 'of', 'Duty'),\n",
              " ('of', 'Duty', ':'),\n",
              " ('Duty', ':', 'WWII'),\n",
              " (':', 'WWII', '.'),\n",
              " ('WWII', '.', 'Quite'),\n",
              " ('.', 'Quite', 'the'),\n",
              " ('Quite', 'the', 'big'),\n",
              " ('the', 'big', 'addition'),\n",
              " ('big', 'addition', ','),\n",
              " ('addition', ',', 'is'),\n",
              " (',', 'is', \"n't\"),\n",
              " ('is', \"n't\", 'it'),\n",
              " (\"n't\", 'it', '?'),\n",
              " ('it', '?', 'The'),\n",
              " ('?', 'The', 'Japanese'),\n",
              " ('The', 'Japanese', 'giant'),\n",
              " ('Japanese', 'giant', 'states'),\n",
              " ('giant', 'states', 'that'),\n",
              " ('states', 'that', 'the'),\n",
              " ('that', 'the', 'other'),\n",
              " ('the', 'other', 'PS4'),\n",
              " ('other', 'PS4', 'game'),\n",
              " ('PS4', 'game', 'which'),\n",
              " ('game', 'which', 'will'),\n",
              " ('which', 'will', 'be'),\n",
              " ('will', 'be', 'a'),\n",
              " ('be', 'a', 'part'),\n",
              " ('a', 'part', 'of'),\n",
              " ('part', 'of', 'the'),\n",
              " ('of', 'the', 'line-up'),\n",
              " ('the', 'line-up', 'will'),\n",
              " ('line-up', 'will', 'be'),\n",
              " ('will', 'be', 'revealed'),\n",
              " ('be', 'revealed', 'later'),\n",
              " ('revealed', 'later', 'this'),\n",
              " ('later', 'this', 'week'),\n",
              " ('this', 'week', '.'),\n",
              " ('week', '.', 'We'),\n",
              " ('.', 'We', 'will'),\n",
              " ('We', 'will', ','),\n",
              " ('will', ',', 'of'),\n",
              " (',', 'of', 'course'),\n",
              " ('of', 'course', ','),\n",
              " ('course', ',', 'bring'),\n",
              " (',', 'bring', 'you'),\n",
              " ('bring', 'you', 'confirmation'),\n",
              " ('you', 'confirmation', 'of'),\n",
              " ('confirmation', 'of', 'that'),\n",
              " ('of', 'that', 'second'),\n",
              " ('that', 'second', 'title'),\n",
              " ('second', 'title', 'here'),\n",
              " ('title', 'here', 'on'),\n",
              " ('here', 'on', 'Push'),\n",
              " ('on', 'Push', 'Square'),\n",
              " ('Push', 'Square', 'when'),\n",
              " ('Square', 'when', 'the'),\n",
              " ('when', 'the', 'news'),\n",
              " ('the', 'news', 'breaks'),\n",
              " ('news', 'breaks', '.')]"
            ]
          },
          "metadata": {
            "tags": []
          },
          "execution_count": 5
        }
      ]
    },
    {
      "cell_type": "code",
      "metadata": {
        "id": "yD26d4zQudfs",
        "colab_type": "code",
        "colab": {
          "base_uri": "https://localhost:8080/",
          "height": 1000
        },
        "outputId": "400b0021-62cd-4ecb-d31c-8016e738c13e"
      },
      "source": [
        "ngrams = list(nltk.ngrams(tokens,5))\n",
        "ngrams"
      ],
      "execution_count": 6,
      "outputs": [
        {
          "output_type": "execute_result",
          "data": {
            "text/plain": [
              "[('This', 'is', 'a', 'bit', 'of'),\n",
              " ('is', 'a', 'bit', 'of', 'an'),\n",
              " ('a', 'bit', 'of', 'an', 'odd'),\n",
              " ('bit', 'of', 'an', 'odd', 'one'),\n",
              " ('of', 'an', 'odd', 'one', ','),\n",
              " ('an', 'odd', 'one', ',', 'but'),\n",
              " ('odd', 'one', ',', 'but', 'welcome'),\n",
              " ('one', ',', 'but', 'welcome', 'nonetheless'),\n",
              " (',', 'but', 'welcome', 'nonetheless', '.'),\n",
              " ('but', 'welcome', 'nonetheless', '.', 'Sony'),\n",
              " ('welcome', 'nonetheless', '.', 'Sony', 'has'),\n",
              " ('nonetheless', '.', 'Sony', 'has', 'announced'),\n",
              " ('.', 'Sony', 'has', 'announced', 'one'),\n",
              " ('Sony', 'has', 'announced', 'one', 'of'),\n",
              " ('has', 'announced', 'one', 'of', 'the'),\n",
              " ('announced', 'one', 'of', 'the', 'PlayStation'),\n",
              " ('one', 'of', 'the', 'PlayStation', '4'),\n",
              " ('of', 'the', 'PlayStation', '4', 'games'),\n",
              " ('the', 'PlayStation', '4', 'games', 'which'),\n",
              " ('PlayStation', '4', 'games', 'which', 'will'),\n",
              " ('4', 'games', 'which', 'will', 'make'),\n",
              " ('games', 'which', 'will', 'make', 'up'),\n",
              " ('which', 'will', 'make', 'up', 'PlayStation'),\n",
              " ('will', 'make', 'up', 'PlayStation', 'Plus'),\n",
              " ('make', 'up', 'PlayStation', 'Plus', \"'\"),\n",
              " ('up', 'PlayStation', 'Plus', \"'\", 'line-up'),\n",
              " ('PlayStation', 'Plus', \"'\", 'line-up', 'for'),\n",
              " ('Plus', \"'\", 'line-up', 'for', 'June'),\n",
              " (\"'\", 'line-up', 'for', 'June', '2020'),\n",
              " ('line-up', 'for', 'June', '2020', 'early'),\n",
              " ('for', 'June', '2020', 'early', 'in'),\n",
              " ('June', '2020', 'early', 'in', 'a'),\n",
              " ('2020', 'early', 'in', 'a', 'tweet'),\n",
              " ('early', 'in', 'a', 'tweet', '.'),\n",
              " ('in', 'a', 'tweet', '.', 'It'),\n",
              " ('a', 'tweet', '.', 'It', \"'s\"),\n",
              " ('tweet', '.', 'It', \"'s\", 'Call'),\n",
              " ('.', 'It', \"'s\", 'Call', 'of'),\n",
              " ('It', \"'s\", 'Call', 'of', 'Duty'),\n",
              " (\"'s\", 'Call', 'of', 'Duty', ':'),\n",
              " ('Call', 'of', 'Duty', ':', 'WWII'),\n",
              " ('of', 'Duty', ':', 'WWII', '.'),\n",
              " ('Duty', ':', 'WWII', '.', 'Quite'),\n",
              " (':', 'WWII', '.', 'Quite', 'the'),\n",
              " ('WWII', '.', 'Quite', 'the', 'big'),\n",
              " ('.', 'Quite', 'the', 'big', 'addition'),\n",
              " ('Quite', 'the', 'big', 'addition', ','),\n",
              " ('the', 'big', 'addition', ',', 'is'),\n",
              " ('big', 'addition', ',', 'is', \"n't\"),\n",
              " ('addition', ',', 'is', \"n't\", 'it'),\n",
              " (',', 'is', \"n't\", 'it', '?'),\n",
              " ('is', \"n't\", 'it', '?', 'The'),\n",
              " (\"n't\", 'it', '?', 'The', 'Japanese'),\n",
              " ('it', '?', 'The', 'Japanese', 'giant'),\n",
              " ('?', 'The', 'Japanese', 'giant', 'states'),\n",
              " ('The', 'Japanese', 'giant', 'states', 'that'),\n",
              " ('Japanese', 'giant', 'states', 'that', 'the'),\n",
              " ('giant', 'states', 'that', 'the', 'other'),\n",
              " ('states', 'that', 'the', 'other', 'PS4'),\n",
              " ('that', 'the', 'other', 'PS4', 'game'),\n",
              " ('the', 'other', 'PS4', 'game', 'which'),\n",
              " ('other', 'PS4', 'game', 'which', 'will'),\n",
              " ('PS4', 'game', 'which', 'will', 'be'),\n",
              " ('game', 'which', 'will', 'be', 'a'),\n",
              " ('which', 'will', 'be', 'a', 'part'),\n",
              " ('will', 'be', 'a', 'part', 'of'),\n",
              " ('be', 'a', 'part', 'of', 'the'),\n",
              " ('a', 'part', 'of', 'the', 'line-up'),\n",
              " ('part', 'of', 'the', 'line-up', 'will'),\n",
              " ('of', 'the', 'line-up', 'will', 'be'),\n",
              " ('the', 'line-up', 'will', 'be', 'revealed'),\n",
              " ('line-up', 'will', 'be', 'revealed', 'later'),\n",
              " ('will', 'be', 'revealed', 'later', 'this'),\n",
              " ('be', 'revealed', 'later', 'this', 'week'),\n",
              " ('revealed', 'later', 'this', 'week', '.'),\n",
              " ('later', 'this', 'week', '.', 'We'),\n",
              " ('this', 'week', '.', 'We', 'will'),\n",
              " ('week', '.', 'We', 'will', ','),\n",
              " ('.', 'We', 'will', ',', 'of'),\n",
              " ('We', 'will', ',', 'of', 'course'),\n",
              " ('will', ',', 'of', 'course', ','),\n",
              " (',', 'of', 'course', ',', 'bring'),\n",
              " ('of', 'course', ',', 'bring', 'you'),\n",
              " ('course', ',', 'bring', 'you', 'confirmation'),\n",
              " (',', 'bring', 'you', 'confirmation', 'of'),\n",
              " ('bring', 'you', 'confirmation', 'of', 'that'),\n",
              " ('you', 'confirmation', 'of', 'that', 'second'),\n",
              " ('confirmation', 'of', 'that', 'second', 'title'),\n",
              " ('of', 'that', 'second', 'title', 'here'),\n",
              " ('that', 'second', 'title', 'here', 'on'),\n",
              " ('second', 'title', 'here', 'on', 'Push'),\n",
              " ('title', 'here', 'on', 'Push', 'Square'),\n",
              " ('here', 'on', 'Push', 'Square', 'when'),\n",
              " ('on', 'Push', 'Square', 'when', 'the'),\n",
              " ('Push', 'Square', 'when', 'the', 'news'),\n",
              " ('Square', 'when', 'the', 'news', 'breaks'),\n",
              " ('when', 'the', 'news', 'breaks', '.')]"
            ]
          },
          "metadata": {
            "tags": []
          },
          "execution_count": 6
        }
      ]
    },
    {
      "cell_type": "markdown",
      "metadata": {
        "id": "szzBfMREzNBd",
        "colab_type": "text"
      },
      "source": [
        "# STEMMING"
      ]
    },
    {
      "cell_type": "markdown",
      "metadata": {
        "id": "pd2LA2HgzRl7",
        "colab_type": "text"
      },
      "source": [
        "Stemming is the process of converting words into its root form. for example the root word of study, studies and studying is studi, but the main problem with stemming is that the root word may not be an english word because most of the roots are greek or roman.\n",
        "\n",
        "There are three types of stemming algorithms: \n",
        "1. Porter\n",
        "2. Lancaster\n",
        "3. Snow Ball"
      ]
    },
    {
      "cell_type": "code",
      "metadata": {
        "id": "2VtR8nqMuzy-",
        "colab_type": "code",
        "colab": {
          "base_uri": "https://localhost:8080/",
          "height": 1000
        },
        "outputId": "f7f81b2b-629e-4266-d685-1348e734de1f"
      },
      "source": [
        "from nltk.stem import PorterStemmer,LancasterStemmer,SnowballStemmer\n",
        "pst = PorterStemmer()\n",
        "lst = LancasterStemmer()\n",
        "sst = SnowballStemmer('english',ignore_stopwords=False)\n",
        "print('Porter Stemmer')\n",
        "for words in tokens:\n",
        "  print(words + ':' + pst.stem(words))"
      ],
      "execution_count": 7,
      "outputs": [
        {
          "output_type": "stream",
          "text": [
            "Porter Stemmer\n",
            "This:thi\n",
            "is:is\n",
            "a:a\n",
            "bit:bit\n",
            "of:of\n",
            "an:an\n",
            "odd:odd\n",
            "one:one\n",
            ",:,\n",
            "but:but\n",
            "welcome:welcom\n",
            "nonetheless:nonetheless\n",
            ".:.\n",
            "Sony:soni\n",
            "has:ha\n",
            "announced:announc\n",
            "one:one\n",
            "of:of\n",
            "the:the\n",
            "PlayStation:playstat\n",
            "4:4\n",
            "games:game\n",
            "which:which\n",
            "will:will\n",
            "make:make\n",
            "up:up\n",
            "PlayStation:playstat\n",
            "Plus:plu\n",
            "':'\n",
            "line-up:line-up\n",
            "for:for\n",
            "June:june\n",
            "2020:2020\n",
            "early:earli\n",
            "in:in\n",
            "a:a\n",
            "tweet:tweet\n",
            ".:.\n",
            "It:It\n",
            "'s:'s\n",
            "Call:call\n",
            "of:of\n",
            "Duty:duti\n",
            ":::\n",
            "WWII:wwii\n",
            ".:.\n",
            "Quite:quit\n",
            "the:the\n",
            "big:big\n",
            "addition:addit\n",
            ",:,\n",
            "is:is\n",
            "n't:n't\n",
            "it:it\n",
            "?:?\n",
            "The:the\n",
            "Japanese:japanes\n",
            "giant:giant\n",
            "states:state\n",
            "that:that\n",
            "the:the\n",
            "other:other\n",
            "PS4:ps4\n",
            "game:game\n",
            "which:which\n",
            "will:will\n",
            "be:be\n",
            "a:a\n",
            "part:part\n",
            "of:of\n",
            "the:the\n",
            "line-up:line-up\n",
            "will:will\n",
            "be:be\n",
            "revealed:reveal\n",
            "later:later\n",
            "this:thi\n",
            "week:week\n",
            ".:.\n",
            "We:We\n",
            "will:will\n",
            ",:,\n",
            "of:of\n",
            "course:cours\n",
            ",:,\n",
            "bring:bring\n",
            "you:you\n",
            "confirmation:confirm\n",
            "of:of\n",
            "that:that\n",
            "second:second\n",
            "title:titl\n",
            "here:here\n",
            "on:on\n",
            "Push:push\n",
            "Square:squar\n",
            "when:when\n",
            "the:the\n",
            "news:news\n",
            "breaks:break\n",
            ".:.\n"
          ],
          "name": "stdout"
        }
      ]
    },
    {
      "cell_type": "code",
      "metadata": {
        "id": "WGbS8Tcs3yMT",
        "colab_type": "code",
        "colab": {
          "base_uri": "https://localhost:8080/",
          "height": 1000
        },
        "outputId": "82e56ef7-8391-48ad-83a2-639793b9edf1"
      },
      "source": [
        "print('Lancaster Stemmer')\n",
        "for words in tokens:\n",
        "  print(words + ':' + lst.stem(words))"
      ],
      "execution_count": 8,
      "outputs": [
        {
          "output_type": "stream",
          "text": [
            "Lancaster Stemmer\n",
            "This:thi\n",
            "is:is\n",
            "a:a\n",
            "bit:bit\n",
            "of:of\n",
            "an:an\n",
            "odd:od\n",
            "one:on\n",
            ",:,\n",
            "but:but\n",
            "welcome:welcom\n",
            "nonetheless:nonetheless\n",
            ".:.\n",
            "Sony:sony\n",
            "has:has\n",
            "announced:annount\n",
            "one:on\n",
            "of:of\n",
            "the:the\n",
            "PlayStation:playst\n",
            "4:4\n",
            "games:gam\n",
            "which:which\n",
            "will:wil\n",
            "make:mak\n",
            "up:up\n",
            "PlayStation:playst\n",
            "Plus:plu\n",
            "':'\n",
            "line-up:line-up\n",
            "for:for\n",
            "June:jun\n",
            "2020:2020\n",
            "early:ear\n",
            "in:in\n",
            "a:a\n",
            "tweet:tweet\n",
            ".:.\n",
            "It:it\n",
            "'s:'s\n",
            "Call:cal\n",
            "of:of\n",
            "Duty:duty\n",
            ":::\n",
            "WWII:wwi\n",
            ".:.\n",
            "Quite:quit\n",
            "the:the\n",
            "big:big\n",
            "addition:addit\n",
            ",:,\n",
            "is:is\n",
            "n't:n't\n",
            "it:it\n",
            "?:?\n",
            "The:the\n",
            "Japanese:japanes\n",
            "giant:giant\n",
            "states:stat\n",
            "that:that\n",
            "the:the\n",
            "other:oth\n",
            "PS4:ps4\n",
            "game:gam\n",
            "which:which\n",
            "will:wil\n",
            "be:be\n",
            "a:a\n",
            "part:part\n",
            "of:of\n",
            "the:the\n",
            "line-up:line-up\n",
            "will:wil\n",
            "be:be\n",
            "revealed:rev\n",
            "later:lat\n",
            "this:thi\n",
            "week:week\n",
            ".:.\n",
            "We:we\n",
            "will:wil\n",
            ",:,\n",
            "of:of\n",
            "course:cours\n",
            ",:,\n",
            "bring:bring\n",
            "you:you\n",
            "confirmation:confirm\n",
            "of:of\n",
            "that:that\n",
            "second:second\n",
            "title:titl\n",
            "here:her\n",
            "on:on\n",
            "Push:push\n",
            "Square:squ\n",
            "when:when\n",
            "the:the\n",
            "news:new\n",
            "breaks:break\n",
            ".:.\n"
          ],
          "name": "stdout"
        }
      ]
    },
    {
      "cell_type": "code",
      "metadata": {
        "id": "j9aI3Svb4bGp",
        "colab_type": "code",
        "colab": {
          "base_uri": "https://localhost:8080/",
          "height": 1000
        },
        "outputId": "146e7633-b31b-48fb-f1f7-9b590dce1430"
      },
      "source": [
        "print('Snowball Stemmer')\n",
        "for words in tokens:\n",
        "  print(words + ':' + sst.stem(words))"
      ],
      "execution_count": 9,
      "outputs": [
        {
          "output_type": "stream",
          "text": [
            "Snowball Stemmer\n",
            "This:this\n",
            "is:is\n",
            "a:a\n",
            "bit:bit\n",
            "of:of\n",
            "an:an\n",
            "odd:odd\n",
            "one:one\n",
            ",:,\n",
            "but:but\n",
            "welcome:welcom\n",
            "nonetheless:nonetheless\n",
            ".:.\n",
            "Sony:soni\n",
            "has:has\n",
            "announced:announc\n",
            "one:one\n",
            "of:of\n",
            "the:the\n",
            "PlayStation:playstat\n",
            "4:4\n",
            "games:game\n",
            "which:which\n",
            "will:will\n",
            "make:make\n",
            "up:up\n",
            "PlayStation:playstat\n",
            "Plus:plus\n",
            "':'\n",
            "line-up:line-up\n",
            "for:for\n",
            "June:june\n",
            "2020:2020\n",
            "early:earli\n",
            "in:in\n",
            "a:a\n",
            "tweet:tweet\n",
            ".:.\n",
            "It:it\n",
            "'s:'s\n",
            "Call:call\n",
            "of:of\n",
            "Duty:duti\n",
            ":::\n",
            "WWII:wwii\n",
            ".:.\n",
            "Quite:quit\n",
            "the:the\n",
            "big:big\n",
            "addition:addit\n",
            ",:,\n",
            "is:is\n",
            "n't:n't\n",
            "it:it\n",
            "?:?\n",
            "The:the\n",
            "Japanese:japanes\n",
            "giant:giant\n",
            "states:state\n",
            "that:that\n",
            "the:the\n",
            "other:other\n",
            "PS4:ps4\n",
            "game:game\n",
            "which:which\n",
            "will:will\n",
            "be:be\n",
            "a:a\n",
            "part:part\n",
            "of:of\n",
            "the:the\n",
            "line-up:line-up\n",
            "will:will\n",
            "be:be\n",
            "revealed:reveal\n",
            "later:later\n",
            "this:this\n",
            "week:week\n",
            ".:.\n",
            "We:we\n",
            "will:will\n",
            ",:,\n",
            "of:of\n",
            "course:cours\n",
            ",:,\n",
            "bring:bring\n",
            "you:you\n",
            "confirmation:confirm\n",
            "of:of\n",
            "that:that\n",
            "second:second\n",
            "title:titl\n",
            "here:here\n",
            "on:on\n",
            "Push:push\n",
            "Square:squar\n",
            "when:when\n",
            "the:the\n",
            "news:news\n",
            "breaks:break\n",
            ".:.\n"
          ],
          "name": "stdout"
        }
      ]
    },
    {
      "cell_type": "markdown",
      "metadata": {
        "id": "FhZfBpzg7S0k",
        "colab_type": "text"
      },
      "source": [
        "# LEMMATIZATION"
      ]
    },
    {
      "cell_type": "markdown",
      "metadata": {
        "id": "R_PcWA7t7aIf",
        "colab_type": "text"
      },
      "source": [
        "Lemmatization is similar to stemming the only difference is of the output of the two. the output of lemmatization will always be an english word and because of this reason we should always prefer lemmatization over Stemming."
      ]
    },
    {
      "cell_type": "code",
      "metadata": {
        "id": "eRH5nzoc4e6x",
        "colab_type": "code",
        "colab": {
          "base_uri": "https://localhost:8080/",
          "height": 1000
        },
        "outputId": "e36d6aec-ecd5-4689-e187-7294ce490697"
      },
      "source": [
        "nltk.download('wordnet')\n",
        "from nltk.stem import wordnet, WordNetLemmatizer\n",
        "wlt = WordNetLemmatizer()\n",
        "print('Wordnet Lemmatizer')\n",
        "for words in tokens:\n",
        "  print(words + \":\" + wlt.lemmatize(words))"
      ],
      "execution_count": 10,
      "outputs": [
        {
          "output_type": "stream",
          "text": [
            "[nltk_data] Downloading package wordnet to /root/nltk_data...\n",
            "[nltk_data]   Unzipping corpora/wordnet.zip.\n",
            "Wordnet Lemmatizer\n",
            "This:This\n",
            "is:is\n",
            "a:a\n",
            "bit:bit\n",
            "of:of\n",
            "an:an\n",
            "odd:odd\n",
            "one:one\n",
            ",:,\n",
            "but:but\n",
            "welcome:welcome\n",
            "nonetheless:nonetheless\n",
            ".:.\n",
            "Sony:Sony\n",
            "has:ha\n",
            "announced:announced\n",
            "one:one\n",
            "of:of\n",
            "the:the\n",
            "PlayStation:PlayStation\n",
            "4:4\n",
            "games:game\n",
            "which:which\n",
            "will:will\n",
            "make:make\n",
            "up:up\n",
            "PlayStation:PlayStation\n",
            "Plus:Plus\n",
            "':'\n",
            "line-up:line-up\n",
            "for:for\n",
            "June:June\n",
            "2020:2020\n",
            "early:early\n",
            "in:in\n",
            "a:a\n",
            "tweet:tweet\n",
            ".:.\n",
            "It:It\n",
            "'s:'s\n",
            "Call:Call\n",
            "of:of\n",
            "Duty:Duty\n",
            ":::\n",
            "WWII:WWII\n",
            ".:.\n",
            "Quite:Quite\n",
            "the:the\n",
            "big:big\n",
            "addition:addition\n",
            ",:,\n",
            "is:is\n",
            "n't:n't\n",
            "it:it\n",
            "?:?\n",
            "The:The\n",
            "Japanese:Japanese\n",
            "giant:giant\n",
            "states:state\n",
            "that:that\n",
            "the:the\n",
            "other:other\n",
            "PS4:PS4\n",
            "game:game\n",
            "which:which\n",
            "will:will\n",
            "be:be\n",
            "a:a\n",
            "part:part\n",
            "of:of\n",
            "the:the\n",
            "line-up:line-up\n",
            "will:will\n",
            "be:be\n",
            "revealed:revealed\n",
            "later:later\n",
            "this:this\n",
            "week:week\n",
            ".:.\n",
            "We:We\n",
            "will:will\n",
            ",:,\n",
            "of:of\n",
            "course:course\n",
            ",:,\n",
            "bring:bring\n",
            "you:you\n",
            "confirmation:confirmation\n",
            "of:of\n",
            "that:that\n",
            "second:second\n",
            "title:title\n",
            "here:here\n",
            "on:on\n",
            "Push:Push\n",
            "Square:Square\n",
            "when:when\n",
            "the:the\n",
            "news:news\n",
            "breaks:break\n",
            ".:.\n"
          ],
          "name": "stdout"
        }
      ]
    },
    {
      "cell_type": "markdown",
      "metadata": {
        "id": "Z3W_Plmc9Lqi",
        "colab_type": "text"
      },
      "source": [
        "# STOP WORDS"
      ]
    },
    {
      "cell_type": "markdown",
      "metadata": {
        "id": "9Cnx_CWs9Pb8",
        "colab_type": "text"
      },
      "source": [
        "Most common words that we use in a sentence to form we can ignore when using NLP because it will decrease the size of the data and thereby, we can increase the computational power and also, these words don't possess any change in meaning this is the reason we can ignore stop words."
      ]
    },
    {
      "cell_type": "code",
      "metadata": {
        "id": "r3Bz-hE18bFZ",
        "colab_type": "code",
        "colab": {
          "base_uri": "https://localhost:8080/",
          "height": 51
        },
        "outputId": "38a76b90-181a-468f-f06d-d156b7bd5cf0"
      },
      "source": [
        "nltk.download('stopwords')\n",
        "from nltk.corpus import stopwords"
      ],
      "execution_count": 11,
      "outputs": [
        {
          "output_type": "stream",
          "text": [
            "[nltk_data] Downloading package stopwords to /root/nltk_data...\n",
            "[nltk_data]   Package stopwords is already up-to-date!\n"
          ],
          "name": "stdout"
        }
      ]
    },
    {
      "cell_type": "code",
      "metadata": {
        "id": "v0TKJgLD91KO",
        "colab_type": "code",
        "colab": {
          "base_uri": "https://localhost:8080/",
          "height": 54
        },
        "outputId": "61b805e0-b703-48fd-8672-948035a2e450"
      },
      "source": [
        "stoplist = stopwords.words('english')\n",
        "print(stoplist)"
      ],
      "execution_count": 12,
      "outputs": [
        {
          "output_type": "stream",
          "text": [
            "['i', 'me', 'my', 'myself', 'we', 'our', 'ours', 'ourselves', 'you', \"you're\", \"you've\", \"you'll\", \"you'd\", 'your', 'yours', 'yourself', 'yourselves', 'he', 'him', 'his', 'himself', 'she', \"she's\", 'her', 'hers', 'herself', 'it', \"it's\", 'its', 'itself', 'they', 'them', 'their', 'theirs', 'themselves', 'what', 'which', 'who', 'whom', 'this', 'that', \"that'll\", 'these', 'those', 'am', 'is', 'are', 'was', 'were', 'be', 'been', 'being', 'have', 'has', 'had', 'having', 'do', 'does', 'did', 'doing', 'a', 'an', 'the', 'and', 'but', 'if', 'or', 'because', 'as', 'until', 'while', 'of', 'at', 'by', 'for', 'with', 'about', 'against', 'between', 'into', 'through', 'during', 'before', 'after', 'above', 'below', 'to', 'from', 'up', 'down', 'in', 'out', 'on', 'off', 'over', 'under', 'again', 'further', 'then', 'once', 'here', 'there', 'when', 'where', 'why', 'how', 'all', 'any', 'both', 'each', 'few', 'more', 'most', 'other', 'some', 'such', 'no', 'nor', 'not', 'only', 'own', 'same', 'so', 'than', 'too', 'very', 's', 't', 'can', 'will', 'just', 'don', \"don't\", 'should', \"should've\", 'now', 'd', 'll', 'm', 'o', 're', 've', 'y', 'ain', 'aren', \"aren't\", 'couldn', \"couldn't\", 'didn', \"didn't\", 'doesn', \"doesn't\", 'hadn', \"hadn't\", 'hasn', \"hasn't\", 'haven', \"haven't\", 'isn', \"isn't\", 'ma', 'mightn', \"mightn't\", 'mustn', \"mustn't\", 'needn', \"needn't\", 'shan', \"shan't\", 'shouldn', \"shouldn't\", 'wasn', \"wasn't\", 'weren', \"weren't\", 'won', \"won't\", 'wouldn', \"wouldn't\"]\n"
          ],
          "name": "stdout"
        }
      ]
    },
    {
      "cell_type": "code",
      "metadata": {
        "id": "lA3l7NQD-aWy",
        "colab_type": "code",
        "colab": {
          "base_uri": "https://localhost:8080/",
          "height": 34
        },
        "outputId": "67d0fd22-f40e-435f-80dd-502afdd16609"
      },
      "source": [
        "len(stoplist)"
      ],
      "execution_count": 13,
      "outputs": [
        {
          "output_type": "execute_result",
          "data": {
            "text/plain": [
              "179"
            ]
          },
          "metadata": {
            "tags": []
          },
          "execution_count": 13
        }
      ]
    },
    {
      "cell_type": "code",
      "metadata": {
        "id": "S3xj0oBw-9L4",
        "colab_type": "code",
        "colab": {}
      },
      "source": [
        "from nltk.probability import FreqDist"
      ],
      "execution_count": 0,
      "outputs": []
    },
    {
      "cell_type": "code",
      "metadata": {
        "id": "z7qx67sm_Ulx",
        "colab_type": "code",
        "colab": {
          "base_uri": "https://localhost:8080/",
          "height": 1000
        },
        "outputId": "40d8da56-0733-4f31-df8b-0f1a2d1205ed"
      },
      "source": [
        "fdist = FreqDist(word.lower() for word in nltk.word_tokenize(sentence))\n",
        "fdist"
      ],
      "execution_count": 15,
      "outputs": [
        {
          "output_type": "execute_result",
          "data": {
            "text/plain": [
              "FreqDist({\"'\": 1,\n",
              "          \"'s\": 1,\n",
              "          ',': 4,\n",
              "          '.': 5,\n",
              "          '2020': 1,\n",
              "          '4': 1,\n",
              "          ':': 1,\n",
              "          '?': 1,\n",
              "          'a': 3,\n",
              "          'addition': 1,\n",
              "          'an': 1,\n",
              "          'announced': 1,\n",
              "          'be': 2,\n",
              "          'big': 1,\n",
              "          'bit': 1,\n",
              "          'breaks': 1,\n",
              "          'bring': 1,\n",
              "          'but': 1,\n",
              "          'call': 1,\n",
              "          'confirmation': 1,\n",
              "          'course': 1,\n",
              "          'duty': 1,\n",
              "          'early': 1,\n",
              "          'for': 1,\n",
              "          'game': 1,\n",
              "          'games': 1,\n",
              "          'giant': 1,\n",
              "          'has': 1,\n",
              "          'here': 1,\n",
              "          'in': 1,\n",
              "          'is': 2,\n",
              "          'it': 2,\n",
              "          'japanese': 1,\n",
              "          'june': 1,\n",
              "          'later': 1,\n",
              "          'line-up': 2,\n",
              "          'make': 1,\n",
              "          \"n't\": 1,\n",
              "          'news': 1,\n",
              "          'nonetheless': 1,\n",
              "          'odd': 1,\n",
              "          'of': 6,\n",
              "          'on': 1,\n",
              "          'one': 2,\n",
              "          'other': 1,\n",
              "          'part': 1,\n",
              "          'playstation': 2,\n",
              "          'plus': 1,\n",
              "          'ps4': 1,\n",
              "          'push': 1,\n",
              "          'quite': 1,\n",
              "          'revealed': 1,\n",
              "          'second': 1,\n",
              "          'sony': 1,\n",
              "          'square': 1,\n",
              "          'states': 1,\n",
              "          'that': 2,\n",
              "          'the': 6,\n",
              "          'this': 2,\n",
              "          'title': 1,\n",
              "          'tweet': 1,\n",
              "          'up': 1,\n",
              "          'we': 1,\n",
              "          'week': 1,\n",
              "          'welcome': 1,\n",
              "          'when': 1,\n",
              "          'which': 2,\n",
              "          'will': 4,\n",
              "          'wwii': 1,\n",
              "          'you': 1})"
            ]
          },
          "metadata": {
            "tags": []
          },
          "execution_count": 15
        }
      ]
    },
    {
      "cell_type": "markdown",
      "metadata": {
        "id": "SkTF2rbTrxLL",
        "colab_type": "text"
      },
      "source": [
        "# Regular Expression (regex)"
      ]
    },
    {
      "cell_type": "markdown",
      "metadata": {
        "id": "LE92vE0er3ma",
        "colab_type": "text"
      },
      "source": [
        "Regular expressions are used to filter out sentences from an unstructured form of text. for example, taking out date and time from a system log file,taking out e-mail address or we can remove numbers from out text. So, basically with the help of regular expression we can process our text very easily."
      ]
    },
    {
      "cell_type": "code",
      "metadata": {
        "id": "wUFaykbIpNyZ",
        "colab_type": "code",
        "colab": {
          "base_uri": "https://localhost:8080/",
          "height": 34
        },
        "outputId": "4375797c-611d-49eb-dab8-8b8c3dbc99f1"
      },
      "source": [
        "import re\n",
        "if re.search('data','data is increasing exponentially'):\n",
        "  print('data is there')"
      ],
      "execution_count": 16,
      "outputs": [
        {
          "output_type": "stream",
          "text": [
            "data is there\n"
          ],
          "name": "stdout"
        }
      ]
    },
    {
      "cell_type": "code",
      "metadata": {
        "id": "szYde9Wc4aAS",
        "colab_type": "code",
        "colab": {
          "base_uri": "https://localhost:8080/",
          "height": 34
        },
        "outputId": "579b8b43-bada-4802-c2c1-1709ec5c4b9f"
      },
      "source": [
        "str = \"cat,mat,bat\"\n",
        "str_new = re.findall(\"[cmb]at\",str)\n",
        "print(str_new)"
      ],
      "execution_count": 17,
      "outputs": [
        {
          "output_type": "stream",
          "text": [
            "['cat', 'mat', 'bat']\n"
          ],
          "name": "stdout"
        }
      ]
    },
    {
      "cell_type": "code",
      "metadata": {
        "id": "t3sB6kRZSHJu",
        "colab_type": "code",
        "colab": {
          "base_uri": "https://localhost:8080/",
          "height": 34
        },
        "outputId": "bdf8305b-fee5-418e-ee74-03db8ee19a59"
      },
      "source": [
        "str_range = re.findall(\"[a-h]at\",str)\n",
        "print(str_range)"
      ],
      "execution_count": 18,
      "outputs": [
        {
          "output_type": "stream",
          "text": [
            "['cat', 'bat']\n"
          ],
          "name": "stdout"
        }
      ]
    },
    {
      "cell_type": "code",
      "metadata": {
        "id": "h_ivY6A8S5y8",
        "colab_type": "code",
        "colab": {
          "base_uri": "https://localhost:8080/",
          "height": 34
        },
        "outputId": "5e773749-6dee-4eeb-905f-57c116b7495d"
      },
      "source": [
        "str_range_new  = re.findall(\"[^a-h]at\",str)\n",
        "print(str_range_new)"
      ],
      "execution_count": 19,
      "outputs": [
        {
          "output_type": "stream",
          "text": [
            "['mat']\n"
          ],
          "name": "stdout"
        }
      ]
    },
    {
      "cell_type": "code",
      "metadata": {
        "id": "U-Bj2aj3TUO9",
        "colab_type": "code",
        "colab": {
          "base_uri": "https://localhost:8080/",
          "height": 34
        },
        "outputId": "020c3849-1b0a-4632-8948-b934655f88f2"
      },
      "source": [
        "str = \"cat mat rat bat\"\n",
        "#now how to replace mat with swag\n",
        "regex = re.compile('[m]at')\n",
        "str_new = regex.sub('swag',str)\n",
        "print(str_new)"
      ],
      "execution_count": 20,
      "outputs": [
        {
          "output_type": "stream",
          "text": [
            "cat swag rat bat\n"
          ],
          "name": "stdout"
        }
      ]
    },
    {
      "cell_type": "code",
      "metadata": {
        "id": "-3Tyy-VZVCaS",
        "colab_type": "code",
        "colab": {
          "base_uri": "https://localhost:8080/",
          "height": 54
        },
        "outputId": "8504e589-7598-4f9a-aae5-ee7c8cfc6c2d"
      },
      "source": [
        "str_bday = '''\n",
        "Happy Birthday to You\n",
        "Happy Birthday to You\n",
        "Happy Birthday Dear Shubham\n",
        "Happy Birthday to You.\n",
        "\n",
        "From good friends and true,\n",
        "From old friends and new,\n",
        "May good luck go with you,\n",
        "And happiness too.\n",
        "'''\n",
        "regex = re.compile('\\n') # \\n represents next line\n",
        "str_bday = regex.sub(\" \",str_bday)\n",
        "print(str_bday)"
      ],
      "execution_count": 21,
      "outputs": [
        {
          "output_type": "stream",
          "text": [
            " Happy Birthday to You Happy Birthday to You Happy Birthday Dear Shubham Happy Birthday to You.  From good friends and true, From old friends and new, May good luck go with you, And happiness too. \n"
          ],
          "name": "stdout"
        }
      ]
    },
    {
      "cell_type": "code",
      "metadata": {
        "id": "tyUs8gJNYld7",
        "colab_type": "code",
        "colab": {
          "base_uri": "https://localhost:8080/",
          "height": 34
        },
        "outputId": "74b77f50-2e85-430f-bebd-e1c0a426ceac"
      },
      "source": [
        "# \\d represents numbers and \\D represents anything but numbers\n",
        "str_num = \"12345\"\n",
        "str_num_new = re.findall(\"\\d\",str_num)\n",
        "str_num_new"
      ],
      "execution_count": 22,
      "outputs": [
        {
          "output_type": "execute_result",
          "data": {
            "text/plain": [
              "['1', '2', '3', '4', '5']"
            ]
          },
          "metadata": {
            "tags": []
          },
          "execution_count": 22
        }
      ]
    },
    {
      "cell_type": "code",
      "metadata": {
        "id": "Xdaj5g-pbkcQ",
        "colab_type": "code",
        "colab": {
          "base_uri": "https://localhost:8080/",
          "height": 34
        },
        "outputId": "e80a61c4-6d18-4c4f-d62a-e2a67811396e"
      },
      "source": [
        "str_no_num = re.findall(\"\\D\",str_num)\n",
        "str_no_num"
      ],
      "execution_count": 23,
      "outputs": [
        {
          "output_type": "execute_result",
          "data": {
            "text/plain": [
              "[]"
            ]
          },
          "metadata": {
            "tags": []
          },
          "execution_count": 23
        }
      ]
    },
    {
      "cell_type": "code",
      "metadata": {
        "id": "WUOkv_-UbsYn",
        "colab_type": "code",
        "colab": {
          "base_uri": "https://localhost:8080/",
          "height": 34
        },
        "outputId": "1db15271-e82f-45cf-98e2-c56e0b1ebfdd"
      },
      "source": [
        "num = \"123 1234 12345 123456 1234567 12345678\"\n",
        "print(re.findall(\"\\d{4,7}\",num))"
      ],
      "execution_count": 24,
      "outputs": [
        {
          "output_type": "stream",
          "text": [
            "['1234', '12345', '123456', '1234567', '1234567']\n"
          ],
          "name": "stdout"
        }
      ]
    },
    {
      "cell_type": "code",
      "metadata": {
        "id": "uyo2GxLsej8s",
        "colab_type": "code",
        "colab": {
          "base_uri": "https://localhost:8080/",
          "height": 34
        },
        "outputId": "8fb21553-2cca-4a3d-8c15-dc51d765844f"
      },
      "source": [
        " # \\w represents [a-zA-z0-9_] and \\W represents anything but w [^a-zA-Z0-9_]\n",
        " phone = \"123-456-1290\"\n",
        " if re.search(\"\\w{3}-\\w{3}-\\w{4}\",phone):\n",
        "   print('yes it is a number')"
      ],
      "execution_count": 25,
      "outputs": [
        {
          "output_type": "stream",
          "text": [
            "yes it is a number\n"
          ],
          "name": "stdout"
        }
      ]
    },
    {
      "cell_type": "code",
      "metadata": {
        "id": "XlXeSyBRk7JG",
        "colab_type": "code",
        "colab": {
          "base_uri": "https://localhost:8080/",
          "height": 34
        },
        "outputId": "b91ee8e0-3f63-4509-f611-c9f04420784d"
      },
      "source": [
        "# \\s represents [\\f\\n\\r\\t\\v] and \\S represents [^\\f\\n\\r\\t\\v]\n",
        "if re.search('\\w{2,10}\\s\\w{2,10}',\"SHUBHAM MITTAL\"):\n",
        "  print('It is my Name')"
      ],
      "execution_count": 26,
      "outputs": [
        {
          "output_type": "stream",
          "text": [
            "It is my Name\n"
          ],
          "name": "stdout"
        }
      ]
    },
    {
      "cell_type": "code",
      "metadata": {
        "id": "bzeXetm7mtXF",
        "colab_type": "code",
        "colab": {
          "base_uri": "https://localhost:8080/",
          "height": 34
        },
        "outputId": "d633a4f9-123e-40a6-bc57-98c56c60010a"
      },
      "source": [
        "# Check Email address\n",
        "if re.search(\"[\\w._%+]{2,20}@[\\w.-]{2,10}\",\"shubhammittal1992@gmail.com\"):\n",
        "  print(\"email is valid\")"
      ],
      "execution_count": 27,
      "outputs": [
        {
          "output_type": "stream",
          "text": [
            "email is valid\n"
          ],
          "name": "stdout"
        }
      ]
    },
    {
      "cell_type": "code",
      "metadata": {
        "id": "RdiH7pS2oZRq",
        "colab_type": "code",
        "colab": {
          "base_uri": "https://localhost:8080/",
          "height": 54
        },
        "outputId": "551600b8-5bfc-49ff-a1d7-c2b22ce5a3ed"
      },
      "source": [
        "#Web scraping using Regular expression\n",
        "'''\n",
        "import urllib.request\n",
        "from re import findall\n",
        "url = https://www.summet.com/dmsi/html/codesamples/addresses/.html\n",
        "response = urllib.request.urlopen(url)\n",
        "html = response.read()\n",
        "html_str = html.decode()\n",
        "data = findall(\"\\(\\d{3}\\)-\\d{3}-\\d{4}\",html_str)\n",
        "print(data)\n",
        "'''"
      ],
      "execution_count": 28,
      "outputs": [
        {
          "output_type": "execute_result",
          "data": {
            "text/plain": [
              "'\\nimport urllib.request\\nfrom re import findall\\nurl = https://www.summet.com/dmsi/html/codesamples/addresses/.html\\nresponse = urllib.request.urlopen(url)\\nhtml = response.read()\\nhtml_str = html.decode()\\ndata = findall(\"\\\\(\\\\d{3}\\\\)-\\\\d{3}-\\\\d{4}\",html_str)\\nprint(data)\\n'"
            ]
          },
          "metadata": {
            "tags": []
          },
          "execution_count": 28
        }
      ]
    },
    {
      "cell_type": "code",
      "metadata": {
        "id": "x0-8GfN2qLvs",
        "colab_type": "code",
        "colab": {
          "base_uri": "https://localhost:8080/",
          "height": 54
        },
        "outputId": "fc26b85f-bbd9-4ea6-8680-292e1125e968"
      },
      "source": [
        "Punctuation = re.compile(r\"[-.?,!()|0-9]\")\n",
        "new_str = Punctuation.sub(\"\",sentence)\n",
        "new_str"
      ],
      "execution_count": 29,
      "outputs": [
        {
          "output_type": "execute_result",
          "data": {
            "text/plain": [
              "\"This is a bit of an odd one but welcome nonetheless Sony has announced one of the PlayStation  games which will make up PlayStation Plus' lineup for June  early in a tweet It's Call of Duty: WWII Quite the big addition isn't it The Japanese giant states that the other PS game which will be a part of the lineup will be revealed later this week We will of course bring you confirmation of that second title here on Push Square when the news breaks\""
            ]
          },
          "metadata": {
            "tags": []
          },
          "execution_count": 29
        }
      ]
    },
    {
      "cell_type": "code",
      "metadata": {
        "id": "vTuQhvK-CojK",
        "colab_type": "code",
        "colab": {
          "base_uri": "https://localhost:8080/",
          "height": 34
        },
        "outputId": "a72cf075-bbeb-4076-a066-a59937eee265"
      },
      "source": [
        "len(nltk.word_tokenize(sentence))"
      ],
      "execution_count": 30,
      "outputs": [
        {
          "output_type": "execute_result",
          "data": {
            "text/plain": [
              "101"
            ]
          },
          "metadata": {
            "tags": []
          },
          "execution_count": 30
        }
      ]
    },
    {
      "cell_type": "code",
      "metadata": {
        "id": "3-3CeWGwC7DG",
        "colab_type": "code",
        "colab": {
          "base_uri": "https://localhost:8080/",
          "height": 34
        },
        "outputId": "fa3139cd-6fca-4ca7-c6d9-1f2e9c36a975"
      },
      "source": [
        "len(nltk.word_tokenize(new_str))"
      ],
      "execution_count": 31,
      "outputs": [
        {
          "output_type": "execute_result",
          "data": {
            "text/plain": [
              "89"
            ]
          },
          "metadata": {
            "tags": []
          },
          "execution_count": 31
        }
      ]
    },
    {
      "cell_type": "code",
      "metadata": {
        "id": "LFOj59M1DAZF",
        "colab_type": "code",
        "colab": {
          "base_uri": "https://localhost:8080/",
          "height": 54
        },
        "outputId": "9283147d-89d6-4617-d898-6fb0e118066c"
      },
      "source": [
        "sentence = sentence.lower()\n",
        "sentence"
      ],
      "execution_count": 32,
      "outputs": [
        {
          "output_type": "execute_result",
          "data": {
            "text/plain": [
              "\"this is a bit of an odd one, but welcome nonetheless. sony has announced one of the playstation 4 games which will make up playstation plus' line-up for june 2020 early in a tweet. it's call of duty: wwii. quite the big addition, isn't it? the japanese giant states that the other ps4 game which will be a part of the line-up will be revealed later this week. we will, of course, bring you confirmation of that second title here on push square when the news breaks.\""
            ]
          },
          "metadata": {
            "tags": []
          },
          "execution_count": 32
        }
      ]
    },
    {
      "cell_type": "markdown",
      "metadata": {
        "id": "6i_B66dTEH0I",
        "colab_type": "text"
      },
      "source": [
        "# Parts of Speech Tag (POS Tagging)"
      ]
    },
    {
      "cell_type": "markdown",
      "metadata": {
        "id": "Poq5xTkHES8h",
        "colab_type": "text"
      },
      "source": [
        "Noun - a word (except a pronoun) that identifies a person, place or thing, or names one of them (proper noun) The simple definition is: a person, place or thing. Here are some examples: person: man, woman, teacher, John, Mary. place: home, office, town, countryside, America.\n",
        "\n",
        "Article - Articles are words that define a noun as specific or unspecific. Consider the following examples: After the long day, the cup of tea tasted particularly good. By using the article the, we've shown that it was one specific day that was long and one specific cup of tea that tasted good.\n",
        "\n",
        "Verb - A verb is a word or a combination of words that indicates action or a state of being or condition. A verb is the part of a sentence that tells us what the subject performs. Verbs are the hearts of English sentences. Examples: Jacob walks in the morning.\n",
        "\n",
        "Pronoun - Indefinite pronouns: one, other, none, some, anybody, everybody, no one. Reflexive pronouns: myself, yourself, himself, herself, itself, ourselves, yourselves, themselves. Possessive pronouns: my, your, its, his, her, our, their, whose. Interrogative pronouns: who, what, which, whose.\n",
        "\n",
        "Adjective -  Adjectives are words that are used to describe or modify nouns or pronouns. For example, red, quick, happy, and obnoxious are adjectives because they can describe things—a red hat, the quick rabbit, a happy duck, an obnoxious person.\n",
        "\n",
        "Adverb - Adverbs modify verbs, adjectives, or other adverbs. They can add to or change the meaning of a word. A great way to spot adverbs is to look for words that end in -ly.\n",
        "\n",
        "Conjunction - Conjunction is a word that joins words, phrases, clauses or sentence. e.g. but, and, yet, or, because, nor, although, since, unless, while, where etc. Examples: She bought a shirt and a book.\n",
        "\n",
        "Preposition - Prepositional phrases can function as either adjective phrases or adverb phrases to modify other words in a sentence. Common prepositional phrase examples include about, after, at, before, behind, by, during, for, from, in, of, over, past, to, under, up, and with.\n",
        "\n",
        "Interjection - An interjection is a word that expresses a strong emotion. It expresses emotion of joy, sorrow, excitement, wonder surprise, pain, sadness, happiness, and so on. Interjections are usually specific words such as 'Hurrah, Wow, Oh, Ouch, Huh'."
      ]
    },
    {
      "cell_type": "code",
      "metadata": {
        "id": "qTMUGSfIDQkb",
        "colab_type": "code",
        "colab": {
          "base_uri": "https://localhost:8080/",
          "height": 105
        },
        "outputId": "c32d7d44-5e01-4cd3-af67-fdafd1fefb5a"
      },
      "source": [
        "nltk.download('averaged_perceptron_tagger')\n",
        "pos_tag = nltk.pos_tag(tokens)\n",
        "print(pos_tag)"
      ],
      "execution_count": 33,
      "outputs": [
        {
          "output_type": "stream",
          "text": [
            "[nltk_data] Downloading package averaged_perceptron_tagger to\n",
            "[nltk_data]     /root/nltk_data...\n",
            "[nltk_data]   Unzipping taggers/averaged_perceptron_tagger.zip.\n",
            "[('This', 'DT'), ('is', 'VBZ'), ('a', 'DT'), ('bit', 'NN'), ('of', 'IN'), ('an', 'DT'), ('odd', 'JJ'), ('one', 'CD'), (',', ','), ('but', 'CC'), ('welcome', 'JJ'), ('nonetheless', 'RB'), ('.', '.'), ('Sony', 'NNP'), ('has', 'VBZ'), ('announced', 'VBN'), ('one', 'CD'), ('of', 'IN'), ('the', 'DT'), ('PlayStation', 'NNP'), ('4', 'CD'), ('games', 'NNS'), ('which', 'WDT'), ('will', 'MD'), ('make', 'VB'), ('up', 'RP'), ('PlayStation', 'NNP'), ('Plus', 'NNP'), (\"'\", 'POS'), ('line-up', 'NN'), ('for', 'IN'), ('June', 'NNP'), ('2020', 'CD'), ('early', 'RB'), ('in', 'IN'), ('a', 'DT'), ('tweet', 'NN'), ('.', '.'), ('It', 'PRP'), (\"'s\", 'VBZ'), ('Call', 'NNP'), ('of', 'IN'), ('Duty', 'NN'), (':', ':'), ('WWII', 'NNP'), ('.', '.'), ('Quite', 'PDT'), ('the', 'DT'), ('big', 'JJ'), ('addition', 'NN'), (',', ','), ('is', 'VBZ'), (\"n't\", 'RB'), ('it', 'PRP'), ('?', '.'), ('The', 'DT'), ('Japanese', 'JJ'), ('giant', 'JJ'), ('states', 'NNS'), ('that', 'IN'), ('the', 'DT'), ('other', 'JJ'), ('PS4', 'NNP'), ('game', 'NN'), ('which', 'WDT'), ('will', 'MD'), ('be', 'VB'), ('a', 'DT'), ('part', 'NN'), ('of', 'IN'), ('the', 'DT'), ('line-up', 'NN'), ('will', 'MD'), ('be', 'VB'), ('revealed', 'VBN'), ('later', 'RB'), ('this', 'DT'), ('week', 'NN'), ('.', '.'), ('We', 'PRP'), ('will', 'MD'), (',', ','), ('of', 'IN'), ('course', 'NN'), (',', ','), ('bring', 'VBG'), ('you', 'PRP'), ('confirmation', 'NN'), ('of', 'IN'), ('that', 'DT'), ('second', 'JJ'), ('title', 'NN'), ('here', 'RB'), ('on', 'IN'), ('Push', 'NNP'), ('Square', 'NNP'), ('when', 'WRB'), ('the', 'DT'), ('news', 'NN'), ('breaks', 'NNS'), ('.', '.')]\n"
          ],
          "name": "stdout"
        }
      ]
    },
    {
      "cell_type": "markdown",
      "metadata": {
        "id": "9WTPObFS41HY",
        "colab_type": "text"
      },
      "source": [
        "# NAMED ENTITY RECOGNITION"
      ]
    },
    {
      "cell_type": "markdown",
      "metadata": {
        "id": "t0DsHoxm4-v8",
        "colab_type": "text"
      },
      "source": [
        "DATA Extraction task for finding and sorting into different categories like Name, place, Organisation, Date, Time , Location , Cardinal Numbers , Ordinal Numbers Etc."
      ]
    },
    {
      "cell_type": "code",
      "metadata": {
        "id": "mv4szcBm29Df",
        "colab_type": "code",
        "colab": {
          "base_uri": "https://localhost:8080/",
          "height": 119
        },
        "outputId": "73853d55-c6bb-4ba1-bf56-cce7649c1afa"
      },
      "source": [
        "nltk.download('maxent_ne_chunker')\n",
        "nltk.download('words')"
      ],
      "execution_count": 34,
      "outputs": [
        {
          "output_type": "stream",
          "text": [
            "[nltk_data] Downloading package maxent_ne_chunker to\n",
            "[nltk_data]     /root/nltk_data...\n",
            "[nltk_data]   Unzipping chunkers/maxent_ne_chunker.zip.\n",
            "[nltk_data] Downloading package words to /root/nltk_data...\n",
            "[nltk_data]   Unzipping corpora/words.zip.\n"
          ],
          "name": "stdout"
        },
        {
          "output_type": "execute_result",
          "data": {
            "text/plain": [
              "True"
            ]
          },
          "metadata": {
            "tags": []
          },
          "execution_count": 34
        }
      ]
    },
    {
      "cell_type": "code",
      "metadata": {
        "id": "FKScwgNiHvUm",
        "colab_type": "code",
        "colab": {
          "base_uri": "https://localhost:8080/",
          "height": 1000
        },
        "outputId": "8e03a96d-db05-4b35-e05f-b6dcc2def9a9"
      },
      "source": [
        "for chunk in nltk.ne_chunk(pos_tag):\n",
        "  print(chunk)"
      ],
      "execution_count": 35,
      "outputs": [
        {
          "output_type": "stream",
          "text": [
            "('This', 'DT')\n",
            "('is', 'VBZ')\n",
            "('a', 'DT')\n",
            "('bit', 'NN')\n",
            "('of', 'IN')\n",
            "('an', 'DT')\n",
            "('odd', 'JJ')\n",
            "('one', 'CD')\n",
            "(',', ',')\n",
            "('but', 'CC')\n",
            "('welcome', 'JJ')\n",
            "('nonetheless', 'RB')\n",
            "('.', '.')\n",
            "(PERSON Sony/NNP)\n",
            "('has', 'VBZ')\n",
            "('announced', 'VBN')\n",
            "('one', 'CD')\n",
            "('of', 'IN')\n",
            "('the', 'DT')\n",
            "(ORGANIZATION PlayStation/NNP)\n",
            "('4', 'CD')\n",
            "('games', 'NNS')\n",
            "('which', 'WDT')\n",
            "('will', 'MD')\n",
            "('make', 'VB')\n",
            "('up', 'RP')\n",
            "(ORGANIZATION PlayStation/NNP Plus/NNP)\n",
            "(\"'\", 'POS')\n",
            "('line-up', 'NN')\n",
            "('for', 'IN')\n",
            "('June', 'NNP')\n",
            "('2020', 'CD')\n",
            "('early', 'RB')\n",
            "('in', 'IN')\n",
            "('a', 'DT')\n",
            "('tweet', 'NN')\n",
            "('.', '.')\n",
            "('It', 'PRP')\n",
            "(\"'s\", 'VBZ')\n",
            "(ORGANIZATION Call/NNP)\n",
            "('of', 'IN')\n",
            "(GPE Duty/NN)\n",
            "(':', ':')\n",
            "('WWII', 'NNP')\n",
            "('.', '.')\n",
            "('Quite', 'PDT')\n",
            "('the', 'DT')\n",
            "('big', 'JJ')\n",
            "('addition', 'NN')\n",
            "(',', ',')\n",
            "('is', 'VBZ')\n",
            "(\"n't\", 'RB')\n",
            "('it', 'PRP')\n",
            "('?', '.')\n",
            "('The', 'DT')\n",
            "(GPE Japanese/JJ)\n",
            "('giant', 'JJ')\n",
            "('states', 'NNS')\n",
            "('that', 'IN')\n",
            "('the', 'DT')\n",
            "('other', 'JJ')\n",
            "(ORGANIZATION PS4/NNP)\n",
            "('game', 'NN')\n",
            "('which', 'WDT')\n",
            "('will', 'MD')\n",
            "('be', 'VB')\n",
            "('a', 'DT')\n",
            "('part', 'NN')\n",
            "('of', 'IN')\n",
            "('the', 'DT')\n",
            "('line-up', 'NN')\n",
            "('will', 'MD')\n",
            "('be', 'VB')\n",
            "('revealed', 'VBN')\n",
            "('later', 'RB')\n",
            "('this', 'DT')\n",
            "('week', 'NN')\n",
            "('.', '.')\n",
            "('We', 'PRP')\n",
            "('will', 'MD')\n",
            "(',', ',')\n",
            "('of', 'IN')\n",
            "('course', 'NN')\n",
            "(',', ',')\n",
            "('bring', 'VBG')\n",
            "('you', 'PRP')\n",
            "('confirmation', 'NN')\n",
            "('of', 'IN')\n",
            "('that', 'DT')\n",
            "('second', 'JJ')\n",
            "('title', 'NN')\n",
            "('here', 'RB')\n",
            "('on', 'IN')\n",
            "(PERSON Push/NNP Square/NNP)\n",
            "('when', 'WRB')\n",
            "('the', 'DT')\n",
            "('news', 'NN')\n",
            "('breaks', 'NNS')\n",
            "('.', '.')\n"
          ],
          "name": "stdout"
        }
      ]
    },
    {
      "cell_type": "markdown",
      "metadata": {
        "id": "9N4BCe0pTm_7",
        "colab_type": "text"
      },
      "source": [
        "# Bag of Words Approach"
      ]
    },
    {
      "cell_type": "code",
      "metadata": {
        "id": "Df2VlnRxNsSz",
        "colab_type": "code",
        "colab": {}
      },
      "source": [
        "review_1 = \"The movie was good and we really like it\"\n",
        "review_2 = \"The movie was but ending was boring\"\n",
        "review_3 = \"We did not like the movie as it was too lengthy\""
      ],
      "execution_count": 0,
      "outputs": []
    },
    {
      "cell_type": "code",
      "metadata": {
        "id": "kmuMC-W0UH9m",
        "colab_type": "code",
        "colab": {}
      },
      "source": [
        "review_1_tokens = nltk.word_tokenize(review_1)\n",
        "review_2_tokens = nltk.word_tokenize(review_2)\n",
        "review_3_tokens = nltk.word_tokenize(review_3)\n",
        "review_tokens = set(review_1_tokens).union(set(review_2_tokens)).union(set(review_3_tokens))"
      ],
      "execution_count": 0,
      "outputs": []
    },
    {
      "cell_type": "code",
      "metadata": {
        "id": "62YDAJ4hU24i",
        "colab_type": "code",
        "colab": {
          "base_uri": "https://localhost:8080/",
          "height": 34
        },
        "outputId": "1b8092fb-69e9-4d0f-8c79-a3d589afb38d"
      },
      "source": [
        "len(review_tokens)"
      ],
      "execution_count": 38,
      "outputs": [
        {
          "output_type": "execute_result",
          "data": {
            "text/plain": [
              "19"
            ]
          },
          "metadata": {
            "tags": []
          },
          "execution_count": 38
        }
      ]
    },
    {
      "cell_type": "code",
      "metadata": {
        "id": "e0wP7aZaU5O0",
        "colab_type": "code",
        "colab": {
          "base_uri": "https://localhost:8080/",
          "height": 340
        },
        "outputId": "9bd7fe3b-9838-45da-90cc-b2db99d10052"
      },
      "source": [
        "review_tokens"
      ],
      "execution_count": 39,
      "outputs": [
        {
          "output_type": "execute_result",
          "data": {
            "text/plain": [
              "{'The',\n",
              " 'We',\n",
              " 'and',\n",
              " 'as',\n",
              " 'boring',\n",
              " 'but',\n",
              " 'did',\n",
              " 'ending',\n",
              " 'good',\n",
              " 'it',\n",
              " 'lengthy',\n",
              " 'like',\n",
              " 'movie',\n",
              " 'not',\n",
              " 'really',\n",
              " 'the',\n",
              " 'too',\n",
              " 'was',\n",
              " 'we'}"
            ]
          },
          "metadata": {
            "tags": []
          },
          "execution_count": 39
        }
      ]
    },
    {
      "cell_type": "code",
      "metadata": {
        "id": "EvbSWAhLU7TU",
        "colab_type": "code",
        "colab": {
          "base_uri": "https://localhost:8080/",
          "height": 340
        },
        "outputId": "4374ab47-0073-4dff-c38f-cd612466e834"
      },
      "source": [
        "review_dict1 = dict.fromkeys(review_tokens,0)\n",
        "for token in review_1_tokens:\n",
        "  review_dict1[token] = review_dict1[token] + 1\n",
        "review_dict1"
      ],
      "execution_count": 40,
      "outputs": [
        {
          "output_type": "execute_result",
          "data": {
            "text/plain": [
              "{'The': 1,\n",
              " 'We': 0,\n",
              " 'and': 1,\n",
              " 'as': 0,\n",
              " 'boring': 0,\n",
              " 'but': 0,\n",
              " 'did': 0,\n",
              " 'ending': 0,\n",
              " 'good': 1,\n",
              " 'it': 1,\n",
              " 'lengthy': 0,\n",
              " 'like': 1,\n",
              " 'movie': 1,\n",
              " 'not': 0,\n",
              " 'really': 1,\n",
              " 'the': 0,\n",
              " 'too': 0,\n",
              " 'was': 1,\n",
              " 'we': 1}"
            ]
          },
          "metadata": {
            "tags": []
          },
          "execution_count": 40
        }
      ]
    },
    {
      "cell_type": "code",
      "metadata": {
        "id": "lu1ziii1aCYy",
        "colab_type": "code",
        "colab": {
          "base_uri": "https://localhost:8080/",
          "height": 340
        },
        "outputId": "1f5b47db-a974-4ef6-f6c4-e77e5e0453a9"
      },
      "source": [
        "review_dict2 = dict.fromkeys(review_tokens,0)\n",
        "for token in review_2_tokens:\n",
        "  review_dict2[token] = review_dict2[token] + 1\n",
        "review_dict2"
      ],
      "execution_count": 41,
      "outputs": [
        {
          "output_type": "execute_result",
          "data": {
            "text/plain": [
              "{'The': 1,\n",
              " 'We': 0,\n",
              " 'and': 0,\n",
              " 'as': 0,\n",
              " 'boring': 1,\n",
              " 'but': 1,\n",
              " 'did': 0,\n",
              " 'ending': 1,\n",
              " 'good': 0,\n",
              " 'it': 0,\n",
              " 'lengthy': 0,\n",
              " 'like': 0,\n",
              " 'movie': 1,\n",
              " 'not': 0,\n",
              " 'really': 0,\n",
              " 'the': 0,\n",
              " 'too': 0,\n",
              " 'was': 2,\n",
              " 'we': 0}"
            ]
          },
          "metadata": {
            "tags": []
          },
          "execution_count": 41
        }
      ]
    },
    {
      "cell_type": "code",
      "metadata": {
        "id": "ogVSFJtqbXxJ",
        "colab_type": "code",
        "colab": {
          "base_uri": "https://localhost:8080/",
          "height": 340
        },
        "outputId": "53a6337c-3f21-4ff0-c582-ea351b2e2611"
      },
      "source": [
        "review_dict3 = dict.fromkeys(review_tokens,0)\n",
        "for token in review_3_tokens:\n",
        "  review_dict3[token] = review_dict3[token] + 1\n",
        "review_dict3"
      ],
      "execution_count": 42,
      "outputs": [
        {
          "output_type": "execute_result",
          "data": {
            "text/plain": [
              "{'The': 0,\n",
              " 'We': 1,\n",
              " 'and': 0,\n",
              " 'as': 1,\n",
              " 'boring': 0,\n",
              " 'but': 0,\n",
              " 'did': 1,\n",
              " 'ending': 0,\n",
              " 'good': 0,\n",
              " 'it': 1,\n",
              " 'lengthy': 1,\n",
              " 'like': 1,\n",
              " 'movie': 1,\n",
              " 'not': 1,\n",
              " 'really': 0,\n",
              " 'the': 1,\n",
              " 'too': 1,\n",
              " 'was': 1,\n",
              " 'we': 0}"
            ]
          },
          "metadata": {
            "tags": []
          },
          "execution_count": 42
        }
      ]
    },
    {
      "cell_type": "code",
      "metadata": {
        "id": "pQGJE6_FbeYA",
        "colab_type": "code",
        "colab": {
          "base_uri": "https://localhost:8080/",
          "height": 142
        },
        "outputId": "48d599a1-bbdf-4112-ca7c-eaca904cd2f8"
      },
      "source": [
        "import pandas as pd\n",
        "review_df = pd.DataFrame([review_dict1,review_dict2,review_dict3])\n",
        "review_df"
      ],
      "execution_count": 43,
      "outputs": [
        {
          "output_type": "execute_result",
          "data": {
            "text/html": [
              "<div>\n",
              "<style scoped>\n",
              "    .dataframe tbody tr th:only-of-type {\n",
              "        vertical-align: middle;\n",
              "    }\n",
              "\n",
              "    .dataframe tbody tr th {\n",
              "        vertical-align: top;\n",
              "    }\n",
              "\n",
              "    .dataframe thead th {\n",
              "        text-align: right;\n",
              "    }\n",
              "</style>\n",
              "<table border=\"1\" class=\"dataframe\">\n",
              "  <thead>\n",
              "    <tr style=\"text-align: right;\">\n",
              "      <th></th>\n",
              "      <th>did</th>\n",
              "      <th>the</th>\n",
              "      <th>We</th>\n",
              "      <th>lengthy</th>\n",
              "      <th>good</th>\n",
              "      <th>The</th>\n",
              "      <th>we</th>\n",
              "      <th>it</th>\n",
              "      <th>as</th>\n",
              "      <th>like</th>\n",
              "      <th>ending</th>\n",
              "      <th>not</th>\n",
              "      <th>too</th>\n",
              "      <th>really</th>\n",
              "      <th>boring</th>\n",
              "      <th>movie</th>\n",
              "      <th>was</th>\n",
              "      <th>and</th>\n",
              "      <th>but</th>\n",
              "    </tr>\n",
              "  </thead>\n",
              "  <tbody>\n",
              "    <tr>\n",
              "      <th>0</th>\n",
              "      <td>0</td>\n",
              "      <td>0</td>\n",
              "      <td>0</td>\n",
              "      <td>0</td>\n",
              "      <td>1</td>\n",
              "      <td>1</td>\n",
              "      <td>1</td>\n",
              "      <td>1</td>\n",
              "      <td>0</td>\n",
              "      <td>1</td>\n",
              "      <td>0</td>\n",
              "      <td>0</td>\n",
              "      <td>0</td>\n",
              "      <td>1</td>\n",
              "      <td>0</td>\n",
              "      <td>1</td>\n",
              "      <td>1</td>\n",
              "      <td>1</td>\n",
              "      <td>0</td>\n",
              "    </tr>\n",
              "    <tr>\n",
              "      <th>1</th>\n",
              "      <td>0</td>\n",
              "      <td>0</td>\n",
              "      <td>0</td>\n",
              "      <td>0</td>\n",
              "      <td>0</td>\n",
              "      <td>1</td>\n",
              "      <td>0</td>\n",
              "      <td>0</td>\n",
              "      <td>0</td>\n",
              "      <td>0</td>\n",
              "      <td>1</td>\n",
              "      <td>0</td>\n",
              "      <td>0</td>\n",
              "      <td>0</td>\n",
              "      <td>1</td>\n",
              "      <td>1</td>\n",
              "      <td>2</td>\n",
              "      <td>0</td>\n",
              "      <td>1</td>\n",
              "    </tr>\n",
              "    <tr>\n",
              "      <th>2</th>\n",
              "      <td>1</td>\n",
              "      <td>1</td>\n",
              "      <td>1</td>\n",
              "      <td>1</td>\n",
              "      <td>0</td>\n",
              "      <td>0</td>\n",
              "      <td>0</td>\n",
              "      <td>1</td>\n",
              "      <td>1</td>\n",
              "      <td>1</td>\n",
              "      <td>0</td>\n",
              "      <td>1</td>\n",
              "      <td>1</td>\n",
              "      <td>0</td>\n",
              "      <td>0</td>\n",
              "      <td>1</td>\n",
              "      <td>1</td>\n",
              "      <td>0</td>\n",
              "      <td>0</td>\n",
              "    </tr>\n",
              "  </tbody>\n",
              "</table>\n",
              "</div>"
            ],
            "text/plain": [
              "   did  the  We  lengthy  good  The  ...  really  boring  movie  was  and  but\n",
              "0    0    0   0        0     1    1  ...       1       0      1    1    1    0\n",
              "1    0    0   0        0     0    1  ...       0       1      1    2    0    1\n",
              "2    1    1   1        1     0    0  ...       0       0      1    1    0    0\n",
              "\n",
              "[3 rows x 19 columns]"
            ]
          },
          "metadata": {
            "tags": []
          },
          "execution_count": 43
        }
      ]
    },
    {
      "cell_type": "markdown",
      "metadata": {
        "id": "VUyP5ZY4dWOB",
        "colab_type": "text"
      },
      "source": [
        "Now, we can do the same thing using Count vectorizer using Sklearn"
      ]
    },
    {
      "cell_type": "code",
      "metadata": {
        "id": "sVE3XXPebu77",
        "colab_type": "code",
        "colab": {}
      },
      "source": [
        "from sklearn.feature_extraction.text import CountVectorizer\n",
        "review_list = [review_1,review_2,review_3]"
      ],
      "execution_count": 0,
      "outputs": []
    },
    {
      "cell_type": "code",
      "metadata": {
        "id": "f9BuxUpcdoad",
        "colab_type": "code",
        "colab": {}
      },
      "source": [
        "count_vect = CountVectorizer()\n",
        "X_counts = count_vect.fit_transform(review_list)"
      ],
      "execution_count": 0,
      "outputs": []
    },
    {
      "cell_type": "code",
      "metadata": {
        "id": "VPvvcKU-d7jg",
        "colab_type": "code",
        "colab": {
          "base_uri": "https://localhost:8080/",
          "height": 34
        },
        "outputId": "32625193-1afe-4cb3-b717-3b8d444e736d"
      },
      "source": [
        "type(X_counts)"
      ],
      "execution_count": 46,
      "outputs": [
        {
          "output_type": "execute_result",
          "data": {
            "text/plain": [
              "scipy.sparse.csr.csr_matrix"
            ]
          },
          "metadata": {
            "tags": []
          },
          "execution_count": 46
        }
      ]
    },
    {
      "cell_type": "code",
      "metadata": {
        "id": "ZeibztQvd9Do",
        "colab_type": "code",
        "colab": {
          "base_uri": "https://localhost:8080/",
          "height": 306
        },
        "outputId": "3cac5346-b96b-487a-ac4d-544d418b9396"
      },
      "source": [
        "X_names = count_vect.get_feature_names()\n",
        "X_names"
      ],
      "execution_count": 47,
      "outputs": [
        {
          "output_type": "execute_result",
          "data": {
            "text/plain": [
              "['and',\n",
              " 'as',\n",
              " 'boring',\n",
              " 'but',\n",
              " 'did',\n",
              " 'ending',\n",
              " 'good',\n",
              " 'it',\n",
              " 'lengthy',\n",
              " 'like',\n",
              " 'movie',\n",
              " 'not',\n",
              " 'really',\n",
              " 'the',\n",
              " 'too',\n",
              " 'was',\n",
              " 'we']"
            ]
          },
          "metadata": {
            "tags": []
          },
          "execution_count": 47
        }
      ]
    },
    {
      "cell_type": "code",
      "metadata": {
        "id": "9lrR22XFeJjy",
        "colab_type": "code",
        "colab": {
          "base_uri": "https://localhost:8080/",
          "height": 142
        },
        "outputId": "c5edbff1-9fdf-46e9-a25f-3e23d53e5c18"
      },
      "source": [
        "X_df = pd.DataFrame(X_counts.toarray(),columns=X_names)\n",
        "X_df"
      ],
      "execution_count": 48,
      "outputs": [
        {
          "output_type": "execute_result",
          "data": {
            "text/html": [
              "<div>\n",
              "<style scoped>\n",
              "    .dataframe tbody tr th:only-of-type {\n",
              "        vertical-align: middle;\n",
              "    }\n",
              "\n",
              "    .dataframe tbody tr th {\n",
              "        vertical-align: top;\n",
              "    }\n",
              "\n",
              "    .dataframe thead th {\n",
              "        text-align: right;\n",
              "    }\n",
              "</style>\n",
              "<table border=\"1\" class=\"dataframe\">\n",
              "  <thead>\n",
              "    <tr style=\"text-align: right;\">\n",
              "      <th></th>\n",
              "      <th>and</th>\n",
              "      <th>as</th>\n",
              "      <th>boring</th>\n",
              "      <th>but</th>\n",
              "      <th>did</th>\n",
              "      <th>ending</th>\n",
              "      <th>good</th>\n",
              "      <th>it</th>\n",
              "      <th>lengthy</th>\n",
              "      <th>like</th>\n",
              "      <th>movie</th>\n",
              "      <th>not</th>\n",
              "      <th>really</th>\n",
              "      <th>the</th>\n",
              "      <th>too</th>\n",
              "      <th>was</th>\n",
              "      <th>we</th>\n",
              "    </tr>\n",
              "  </thead>\n",
              "  <tbody>\n",
              "    <tr>\n",
              "      <th>0</th>\n",
              "      <td>1</td>\n",
              "      <td>0</td>\n",
              "      <td>0</td>\n",
              "      <td>0</td>\n",
              "      <td>0</td>\n",
              "      <td>0</td>\n",
              "      <td>1</td>\n",
              "      <td>1</td>\n",
              "      <td>0</td>\n",
              "      <td>1</td>\n",
              "      <td>1</td>\n",
              "      <td>0</td>\n",
              "      <td>1</td>\n",
              "      <td>1</td>\n",
              "      <td>0</td>\n",
              "      <td>1</td>\n",
              "      <td>1</td>\n",
              "    </tr>\n",
              "    <tr>\n",
              "      <th>1</th>\n",
              "      <td>0</td>\n",
              "      <td>0</td>\n",
              "      <td>1</td>\n",
              "      <td>1</td>\n",
              "      <td>0</td>\n",
              "      <td>1</td>\n",
              "      <td>0</td>\n",
              "      <td>0</td>\n",
              "      <td>0</td>\n",
              "      <td>0</td>\n",
              "      <td>1</td>\n",
              "      <td>0</td>\n",
              "      <td>0</td>\n",
              "      <td>1</td>\n",
              "      <td>0</td>\n",
              "      <td>2</td>\n",
              "      <td>0</td>\n",
              "    </tr>\n",
              "    <tr>\n",
              "      <th>2</th>\n",
              "      <td>0</td>\n",
              "      <td>1</td>\n",
              "      <td>0</td>\n",
              "      <td>0</td>\n",
              "      <td>1</td>\n",
              "      <td>0</td>\n",
              "      <td>0</td>\n",
              "      <td>1</td>\n",
              "      <td>1</td>\n",
              "      <td>1</td>\n",
              "      <td>1</td>\n",
              "      <td>1</td>\n",
              "      <td>0</td>\n",
              "      <td>1</td>\n",
              "      <td>1</td>\n",
              "      <td>1</td>\n",
              "      <td>1</td>\n",
              "    </tr>\n",
              "  </tbody>\n",
              "</table>\n",
              "</div>"
            ],
            "text/plain": [
              "   and  as  boring  but  did  ending  ...  not  really  the  too  was  we\n",
              "0    1   0       0    0    0       0  ...    0       1    1    0    1   1\n",
              "1    0   0       1    1    0       1  ...    0       0    1    0    2   0\n",
              "2    0   1       0    0    1       0  ...    1       0    1    1    1   1\n",
              "\n",
              "[3 rows x 17 columns]"
            ]
          },
          "metadata": {
            "tags": []
          },
          "execution_count": 48
        }
      ]
    },
    {
      "cell_type": "markdown",
      "metadata": {
        "id": "depPi_cQgrWg",
        "colab_type": "text"
      },
      "source": [
        "# TF-IDF (Term Frequency and Inverse Document Frequency)\n",
        "\n",
        "TF(x,y) = Term x frequency in document y/ total words in document y\n",
        "\n",
        "x = Term , y = Document\n",
        "\n",
        "IDF(x,y) = log(Total Document/Document with term x)"
      ]
    },
    {
      "cell_type": "code",
      "metadata": {
        "id": "y5QSWvHWegk-",
        "colab_type": "code",
        "colab": {}
      },
      "source": [
        "from sklearn.feature_extraction.text import TfidfVectorizer"
      ],
      "execution_count": 0,
      "outputs": []
    },
    {
      "cell_type": "code",
      "metadata": {
        "id": "dIRvDt8nhodx",
        "colab_type": "code",
        "colab": {}
      },
      "source": [
        "tf_vect = TfidfVectorizer(min_df=1,lowercase=True,stop_words='english')"
      ],
      "execution_count": 0,
      "outputs": []
    },
    {
      "cell_type": "code",
      "metadata": {
        "id": "meFIAbyKiedY",
        "colab_type": "code",
        "colab": {}
      },
      "source": [
        "tf_matrix = tf_vect.fit_transform(review_list)"
      ],
      "execution_count": 0,
      "outputs": []
    },
    {
      "cell_type": "code",
      "metadata": {
        "id": "tTIe19poinLs",
        "colab_type": "code",
        "colab": {
          "base_uri": "https://localhost:8080/",
          "height": 34
        },
        "outputId": "a876ae65-d3ea-4e9d-d910-309d68e35ae6"
      },
      "source": [
        "type(tf_matrix)"
      ],
      "execution_count": 52,
      "outputs": [
        {
          "output_type": "execute_result",
          "data": {
            "text/plain": [
              "scipy.sparse.csr.csr_matrix"
            ]
          },
          "metadata": {
            "tags": []
          },
          "execution_count": 52
        }
      ]
    },
    {
      "cell_type": "code",
      "metadata": {
        "id": "h4Cf9334itrW",
        "colab_type": "code",
        "colab": {
          "base_uri": "https://localhost:8080/",
          "height": 34
        },
        "outputId": "bd63f953-d545-4976-f1bf-42271e74dfef"
      },
      "source": [
        "tf_matrix.shape"
      ],
      "execution_count": 53,
      "outputs": [
        {
          "output_type": "execute_result",
          "data": {
            "text/plain": [
              "(3, 8)"
            ]
          },
          "metadata": {
            "tags": []
          },
          "execution_count": 53
        }
      ]
    },
    {
      "cell_type": "code",
      "metadata": {
        "id": "cYXsVcpqiveQ",
        "colab_type": "code",
        "colab": {
          "base_uri": "https://localhost:8080/",
          "height": 142
        },
        "outputId": "5c62d3d6-af9d-4b93-ef46-ca70aa64de41"
      },
      "source": [
        "tf_df = pd.DataFrame(tf_matrix.toarray(),columns=tf_vect.get_feature_names())\n",
        "tf_df"
      ],
      "execution_count": 54,
      "outputs": [
        {
          "output_type": "execute_result",
          "data": {
            "text/html": [
              "<div>\n",
              "<style scoped>\n",
              "    .dataframe tbody tr th:only-of-type {\n",
              "        vertical-align: middle;\n",
              "    }\n",
              "\n",
              "    .dataframe tbody tr th {\n",
              "        vertical-align: top;\n",
              "    }\n",
              "\n",
              "    .dataframe thead th {\n",
              "        text-align: right;\n",
              "    }\n",
              "</style>\n",
              "<table border=\"1\" class=\"dataframe\">\n",
              "  <thead>\n",
              "    <tr style=\"text-align: right;\">\n",
              "      <th></th>\n",
              "      <th>boring</th>\n",
              "      <th>did</th>\n",
              "      <th>ending</th>\n",
              "      <th>good</th>\n",
              "      <th>lengthy</th>\n",
              "      <th>like</th>\n",
              "      <th>movie</th>\n",
              "      <th>really</th>\n",
              "    </tr>\n",
              "  </thead>\n",
              "  <tbody>\n",
              "    <tr>\n",
              "      <th>0</th>\n",
              "      <td>0.000000</td>\n",
              "      <td>0.000000</td>\n",
              "      <td>0.000000</td>\n",
              "      <td>0.584483</td>\n",
              "      <td>0.000000</td>\n",
              "      <td>0.444514</td>\n",
              "      <td>0.345205</td>\n",
              "      <td>0.584483</td>\n",
              "    </tr>\n",
              "    <tr>\n",
              "      <th>1</th>\n",
              "      <td>0.652491</td>\n",
              "      <td>0.000000</td>\n",
              "      <td>0.652491</td>\n",
              "      <td>0.000000</td>\n",
              "      <td>0.000000</td>\n",
              "      <td>0.000000</td>\n",
              "      <td>0.385372</td>\n",
              "      <td>0.000000</td>\n",
              "    </tr>\n",
              "    <tr>\n",
              "      <th>2</th>\n",
              "      <td>0.000000</td>\n",
              "      <td>0.584483</td>\n",
              "      <td>0.000000</td>\n",
              "      <td>0.000000</td>\n",
              "      <td>0.584483</td>\n",
              "      <td>0.444514</td>\n",
              "      <td>0.345205</td>\n",
              "      <td>0.000000</td>\n",
              "    </tr>\n",
              "  </tbody>\n",
              "</table>\n",
              "</div>"
            ],
            "text/plain": [
              "     boring       did    ending  ...      like     movie    really\n",
              "0  0.000000  0.000000  0.000000  ...  0.444514  0.345205  0.584483\n",
              "1  0.652491  0.000000  0.652491  ...  0.000000  0.385372  0.000000\n",
              "2  0.000000  0.584483  0.000000  ...  0.444514  0.345205  0.000000\n",
              "\n",
              "[3 rows x 8 columns]"
            ]
          },
          "metadata": {
            "tags": []
          },
          "execution_count": 54
        }
      ]
    },
    {
      "cell_type": "markdown",
      "metadata": {
        "id": "LTqwgay8mwyF",
        "colab_type": "text"
      },
      "source": [
        "Now, let's solve a problem of Movie Reviews"
      ]
    },
    {
      "cell_type": "code",
      "metadata": {
        "id": "x_kif-73jLGz",
        "colab_type": "code",
        "colab": {}
      },
      "source": [
        "import os\n",
        "import numpy as np"
      ],
      "execution_count": 0,
      "outputs": []
    },
    {
      "cell_type": "code",
      "metadata": {
        "id": "dCTDtJIkm9nk",
        "colab_type": "code",
        "colab": {
          "base_uri": "https://localhost:8080/",
          "height": 34
        },
        "outputId": "d5be4f26-6be9-448a-8d38-a73735133af8"
      },
      "source": [
        "print(os.listdir(nltk.data.find('corpora')))"
      ],
      "execution_count": 56,
      "outputs": [
        {
          "output_type": "stream",
          "text": [
            "['words', 'wordnet', 'wordnet.zip', 'words.zip', 'stopwords', 'stopwords.zip']\n"
          ],
          "name": "stdout"
        }
      ]
    },
    {
      "cell_type": "code",
      "metadata": {
        "id": "r_WWaD1LnIv3",
        "colab_type": "code",
        "colab": {
          "base_uri": "https://localhost:8080/",
          "height": 51
        },
        "outputId": "cce5f00e-2da9-4194-aa64-1e2e2ffd0d40"
      },
      "source": [
        "nltk.download('movie_reviews')\n",
        "from nltk.corpus import movie_reviews"
      ],
      "execution_count": 57,
      "outputs": [
        {
          "output_type": "stream",
          "text": [
            "[nltk_data] Downloading package movie_reviews to /root/nltk_data...\n",
            "[nltk_data]   Unzipping corpora/movie_reviews.zip.\n"
          ],
          "name": "stdout"
        }
      ]
    },
    {
      "cell_type": "code",
      "metadata": {
        "id": "1olcwuN_nUst",
        "colab_type": "code",
        "colab": {
          "base_uri": "https://localhost:8080/",
          "height": 34
        },
        "outputId": "8df82c62-1772-483b-8bc1-05d24bb6da26"
      },
      "source": [
        "print(movie_reviews.categories())"
      ],
      "execution_count": 58,
      "outputs": [
        {
          "output_type": "stream",
          "text": [
            "['neg', 'pos']\n"
          ],
          "name": "stdout"
        }
      ]
    },
    {
      "cell_type": "code",
      "metadata": {
        "id": "tNH2gboIoLz2",
        "colab_type": "code",
        "colab": {
          "base_uri": "https://localhost:8080/",
          "height": 54
        },
        "outputId": "e797f12f-b04a-473e-b417-e857065b8c0c"
      },
      "source": [
        "print(movie_reviews.fileids('pos'))"
      ],
      "execution_count": 59,
      "outputs": [
        {
          "output_type": "stream",
          "text": [
            "['pos/cv000_29590.txt', 'pos/cv001_18431.txt', 'pos/cv002_15918.txt', 'pos/cv003_11664.txt', 'pos/cv004_11636.txt', 'pos/cv005_29443.txt', 'pos/cv006_15448.txt', 'pos/cv007_4968.txt', 'pos/cv008_29435.txt', 'pos/cv009_29592.txt', 'pos/cv010_29198.txt', 'pos/cv011_12166.txt', 'pos/cv012_29576.txt', 'pos/cv013_10159.txt', 'pos/cv014_13924.txt', 'pos/cv015_29439.txt', 'pos/cv016_4659.txt', 'pos/cv017_22464.txt', 'pos/cv018_20137.txt', 'pos/cv019_14482.txt', 'pos/cv020_8825.txt', 'pos/cv021_15838.txt', 'pos/cv022_12864.txt', 'pos/cv023_12672.txt', 'pos/cv024_6778.txt', 'pos/cv025_3108.txt', 'pos/cv026_29325.txt', 'pos/cv027_25219.txt', 'pos/cv028_26746.txt', 'pos/cv029_18643.txt', 'pos/cv030_21593.txt', 'pos/cv031_18452.txt', 'pos/cv032_22550.txt', 'pos/cv033_24444.txt', 'pos/cv034_29647.txt', 'pos/cv035_3954.txt', 'pos/cv036_16831.txt', 'pos/cv037_18510.txt', 'pos/cv038_9749.txt', 'pos/cv039_6170.txt', 'pos/cv040_8276.txt', 'pos/cv041_21113.txt', 'pos/cv042_10982.txt', 'pos/cv043_15013.txt', 'pos/cv044_16969.txt', 'pos/cv045_23923.txt', 'pos/cv046_10188.txt', 'pos/cv047_1754.txt', 'pos/cv048_16828.txt', 'pos/cv049_20471.txt', 'pos/cv050_11175.txt', 'pos/cv051_10306.txt', 'pos/cv052_29378.txt', 'pos/cv053_21822.txt', 'pos/cv054_4230.txt', 'pos/cv055_8338.txt', 'pos/cv056_13133.txt', 'pos/cv057_7453.txt', 'pos/cv058_8025.txt', 'pos/cv059_28885.txt', 'pos/cv060_10844.txt', 'pos/cv061_8837.txt', 'pos/cv062_23115.txt', 'pos/cv063_28997.txt', 'pos/cv064_24576.txt', 'pos/cv065_15248.txt', 'pos/cv066_10821.txt', 'pos/cv067_19774.txt', 'pos/cv068_13400.txt', 'pos/cv069_10801.txt', 'pos/cv070_12289.txt', 'pos/cv071_12095.txt', 'pos/cv072_6169.txt', 'pos/cv073_21785.txt', 'pos/cv074_6875.txt', 'pos/cv075_6500.txt', 'pos/cv076_24945.txt', 'pos/cv077_22138.txt', 'pos/cv078_14730.txt', 'pos/cv079_11933.txt', 'pos/cv080_13465.txt', 'pos/cv081_16582.txt', 'pos/cv082_11080.txt', 'pos/cv083_24234.txt', 'pos/cv084_13566.txt', 'pos/cv085_1381.txt', 'pos/cv086_18371.txt', 'pos/cv087_1989.txt', 'pos/cv088_24113.txt', 'pos/cv089_11418.txt', 'pos/cv090_0042.txt', 'pos/cv091_7400.txt', 'pos/cv092_28017.txt', 'pos/cv093_13951.txt', 'pos/cv094_27889.txt', 'pos/cv095_28892.txt', 'pos/cv096_11474.txt', 'pos/cv097_24970.txt', 'pos/cv098_15435.txt', 'pos/cv099_10534.txt', 'pos/cv100_11528.txt', 'pos/cv101_10175.txt', 'pos/cv102_7846.txt', 'pos/cv103_11021.txt', 'pos/cv104_18134.txt', 'pos/cv105_17990.txt', 'pos/cv106_16807.txt', 'pos/cv107_24319.txt', 'pos/cv108_15571.txt', 'pos/cv109_21172.txt', 'pos/cv110_27788.txt', 'pos/cv111_11473.txt', 'pos/cv112_11193.txt', 'pos/cv113_23102.txt', 'pos/cv114_18398.txt', 'pos/cv115_25396.txt', 'pos/cv116_28942.txt', 'pos/cv117_24295.txt', 'pos/cv118_28980.txt', 'pos/cv119_9867.txt', 'pos/cv120_4111.txt', 'pos/cv121_17302.txt', 'pos/cv122_7392.txt', 'pos/cv123_11182.txt', 'pos/cv124_4122.txt', 'pos/cv125_9391.txt', 'pos/cv126_28971.txt', 'pos/cv127_14711.txt', 'pos/cv128_29627.txt', 'pos/cv129_16741.txt', 'pos/cv130_17083.txt', 'pos/cv131_10713.txt', 'pos/cv132_5618.txt', 'pos/cv133_16336.txt', 'pos/cv134_22246.txt', 'pos/cv135_11603.txt', 'pos/cv136_11505.txt', 'pos/cv137_15422.txt', 'pos/cv138_12721.txt', 'pos/cv139_12873.txt', 'pos/cv140_7479.txt', 'pos/cv141_15686.txt', 'pos/cv142_22516.txt', 'pos/cv143_19666.txt', 'pos/cv144_5007.txt', 'pos/cv145_11472.txt', 'pos/cv146_18458.txt', 'pos/cv147_21193.txt', 'pos/cv148_16345.txt', 'pos/cv149_15670.txt', 'pos/cv150_12916.txt', 'pos/cv151_15771.txt', 'pos/cv152_8736.txt', 'pos/cv153_10779.txt', 'pos/cv154_9328.txt', 'pos/cv155_7308.txt', 'pos/cv156_10481.txt', 'pos/cv157_29372.txt', 'pos/cv158_10390.txt', 'pos/cv159_29505.txt', 'pos/cv160_10362.txt', 'pos/cv161_11425.txt', 'pos/cv162_10424.txt', 'pos/cv163_10052.txt', 'pos/cv164_22447.txt', 'pos/cv165_22619.txt', 'pos/cv166_11052.txt', 'pos/cv167_16376.txt', 'pos/cv168_7050.txt', 'pos/cv169_23778.txt', 'pos/cv170_3006.txt', 'pos/cv171_13537.txt', 'pos/cv172_11131.txt', 'pos/cv173_4471.txt', 'pos/cv174_9659.txt', 'pos/cv175_6964.txt', 'pos/cv176_12857.txt', 'pos/cv177_10367.txt', 'pos/cv178_12972.txt', 'pos/cv179_9228.txt', 'pos/cv180_16113.txt', 'pos/cv181_14401.txt', 'pos/cv182_7281.txt', 'pos/cv183_18612.txt', 'pos/cv184_2673.txt', 'pos/cv185_28654.txt', 'pos/cv186_2269.txt', 'pos/cv187_12829.txt', 'pos/cv188_19226.txt', 'pos/cv189_22934.txt', 'pos/cv190_27052.txt', 'pos/cv191_29719.txt', 'pos/cv192_14395.txt', 'pos/cv193_5416.txt', 'pos/cv194_12079.txt', 'pos/cv195_14528.txt', 'pos/cv196_29027.txt', 'pos/cv197_29328.txt', 'pos/cv198_18180.txt', 'pos/cv199_9629.txt', 'pos/cv200_2915.txt', 'pos/cv201_6997.txt', 'pos/cv202_10654.txt', 'pos/cv203_17986.txt', 'pos/cv204_8451.txt', 'pos/cv205_9457.txt', 'pos/cv206_14293.txt', 'pos/cv207_29284.txt', 'pos/cv208_9020.txt', 'pos/cv209_29118.txt', 'pos/cv210_9312.txt', 'pos/cv211_9953.txt', 'pos/cv212_10027.txt', 'pos/cv213_18934.txt', 'pos/cv214_12294.txt', 'pos/cv215_22240.txt', 'pos/cv216_18738.txt', 'pos/cv217_28842.txt', 'pos/cv218_24352.txt', 'pos/cv219_18626.txt', 'pos/cv220_29059.txt', 'pos/cv221_2695.txt', 'pos/cv222_17395.txt', 'pos/cv223_29066.txt', 'pos/cv224_17661.txt', 'pos/cv225_29224.txt', 'pos/cv226_2618.txt', 'pos/cv227_24215.txt', 'pos/cv228_5806.txt', 'pos/cv229_13611.txt', 'pos/cv230_7428.txt', 'pos/cv231_10425.txt', 'pos/cv232_14991.txt', 'pos/cv233_15964.txt', 'pos/cv234_20643.txt', 'pos/cv235_10217.txt', 'pos/cv236_11565.txt', 'pos/cv237_19221.txt', 'pos/cv238_12931.txt', 'pos/cv239_3385.txt', 'pos/cv240_14336.txt', 'pos/cv241_23130.txt', 'pos/cv242_10638.txt', 'pos/cv243_20728.txt', 'pos/cv244_21649.txt', 'pos/cv245_8569.txt', 'pos/cv246_28807.txt', 'pos/cv247_13142.txt', 'pos/cv248_13987.txt', 'pos/cv249_11640.txt', 'pos/cv250_25616.txt', 'pos/cv251_22636.txt', 'pos/cv252_23779.txt', 'pos/cv253_10077.txt', 'pos/cv254_6027.txt', 'pos/cv255_13683.txt', 'pos/cv256_14740.txt', 'pos/cv257_10975.txt', 'pos/cv258_5792.txt', 'pos/cv259_10934.txt', 'pos/cv260_13959.txt', 'pos/cv261_10954.txt', 'pos/cv262_12649.txt', 'pos/cv263_19259.txt', 'pos/cv264_12801.txt', 'pos/cv265_10814.txt', 'pos/cv266_25779.txt', 'pos/cv267_14952.txt', 'pos/cv268_18834.txt', 'pos/cv269_21732.txt', 'pos/cv270_6079.txt', 'pos/cv271_13837.txt', 'pos/cv272_18974.txt', 'pos/cv273_29112.txt', 'pos/cv274_25253.txt', 'pos/cv275_28887.txt', 'pos/cv276_15684.txt', 'pos/cv277_19091.txt', 'pos/cv278_13041.txt', 'pos/cv279_18329.txt', 'pos/cv280_8267.txt', 'pos/cv281_23253.txt', 'pos/cv282_6653.txt', 'pos/cv283_11055.txt', 'pos/cv284_19119.txt', 'pos/cv285_16494.txt', 'pos/cv286_25050.txt', 'pos/cv287_15900.txt', 'pos/cv288_18791.txt', 'pos/cv289_6463.txt', 'pos/cv290_11084.txt', 'pos/cv291_26635.txt', 'pos/cv292_7282.txt', 'pos/cv293_29856.txt', 'pos/cv294_11684.txt', 'pos/cv295_15570.txt', 'pos/cv296_12251.txt', 'pos/cv297_10047.txt', 'pos/cv298_23111.txt', 'pos/cv299_16214.txt', 'pos/cv300_22284.txt', 'pos/cv301_12146.txt', 'pos/cv302_25649.txt', 'pos/cv303_27520.txt', 'pos/cv304_28706.txt', 'pos/cv305_9946.txt', 'pos/cv306_10364.txt', 'pos/cv307_25270.txt', 'pos/cv308_5016.txt', 'pos/cv309_22571.txt', 'pos/cv310_13091.txt', 'pos/cv311_16002.txt', 'pos/cv312_29377.txt', 'pos/cv313_18198.txt', 'pos/cv314_14422.txt', 'pos/cv315_11629.txt', 'pos/cv316_6370.txt', 'pos/cv317_24049.txt', 'pos/cv318_10493.txt', 'pos/cv319_14727.txt', 'pos/cv320_9530.txt', 'pos/cv321_12843.txt', 'pos/cv322_20318.txt', 'pos/cv323_29805.txt', 'pos/cv324_7082.txt', 'pos/cv325_16629.txt', 'pos/cv326_13295.txt', 'pos/cv327_20292.txt', 'pos/cv328_10373.txt', 'pos/cv329_29370.txt', 'pos/cv330_29809.txt', 'pos/cv331_8273.txt', 'pos/cv332_16307.txt', 'pos/cv333_8916.txt', 'pos/cv334_10001.txt', 'pos/cv335_14665.txt', 'pos/cv336_10143.txt', 'pos/cv337_29181.txt', 'pos/cv338_8821.txt', 'pos/cv339_21119.txt', 'pos/cv340_13287.txt', 'pos/cv341_24430.txt', 'pos/cv342_19456.txt', 'pos/cv343_10368.txt', 'pos/cv344_5312.txt', 'pos/cv345_9954.txt', 'pos/cv346_18168.txt', 'pos/cv347_13194.txt', 'pos/cv348_18176.txt', 'pos/cv349_13507.txt', 'pos/cv350_20670.txt', 'pos/cv351_15458.txt', 'pos/cv352_5524.txt', 'pos/cv353_18159.txt', 'pos/cv354_8132.txt', 'pos/cv355_16413.txt', 'pos/cv356_25163.txt', 'pos/cv357_13156.txt', 'pos/cv358_10691.txt', 'pos/cv359_6647.txt', 'pos/cv360_8398.txt', 'pos/cv361_28944.txt', 'pos/cv362_15341.txt', 'pos/cv363_29332.txt', 'pos/cv364_12901.txt', 'pos/cv365_11576.txt', 'pos/cv366_10221.txt', 'pos/cv367_22792.txt', 'pos/cv368_10466.txt', 'pos/cv369_12886.txt', 'pos/cv370_5221.txt', 'pos/cv371_7630.txt', 'pos/cv372_6552.txt', 'pos/cv373_20404.txt', 'pos/cv374_25436.txt', 'pos/cv375_9929.txt', 'pos/cv376_19435.txt', 'pos/cv377_7946.txt', 'pos/cv378_20629.txt', 'pos/cv379_21963.txt', 'pos/cv380_7574.txt', 'pos/cv381_20172.txt', 'pos/cv382_7897.txt', 'pos/cv383_13116.txt', 'pos/cv384_17140.txt', 'pos/cv385_29741.txt', 'pos/cv386_10080.txt', 'pos/cv387_11507.txt', 'pos/cv388_12009.txt', 'pos/cv389_9369.txt', 'pos/cv390_11345.txt', 'pos/cv391_10802.txt', 'pos/cv392_11458.txt', 'pos/cv393_29327.txt', 'pos/cv394_5137.txt', 'pos/cv395_10849.txt', 'pos/cv396_17989.txt', 'pos/cv397_29023.txt', 'pos/cv398_15537.txt', 'pos/cv399_2877.txt', 'pos/cv400_19220.txt', 'pos/cv401_12605.txt', 'pos/cv402_14425.txt', 'pos/cv403_6621.txt', 'pos/cv404_20315.txt', 'pos/cv405_20399.txt', 'pos/cv406_21020.txt', 'pos/cv407_22637.txt', 'pos/cv408_5297.txt', 'pos/cv409_29786.txt', 'pos/cv410_24266.txt', 'pos/cv411_15007.txt', 'pos/cv412_24095.txt', 'pos/cv413_7398.txt', 'pos/cv414_10518.txt', 'pos/cv415_22517.txt', 'pos/cv416_11136.txt', 'pos/cv417_13115.txt', 'pos/cv418_14774.txt', 'pos/cv419_13394.txt', 'pos/cv420_28795.txt', 'pos/cv421_9709.txt', 'pos/cv422_9381.txt', 'pos/cv423_11155.txt', 'pos/cv424_8831.txt', 'pos/cv425_8250.txt', 'pos/cv426_10421.txt', 'pos/cv427_10825.txt', 'pos/cv428_11347.txt', 'pos/cv429_7439.txt', 'pos/cv430_17351.txt', 'pos/cv431_7085.txt', 'pos/cv432_14224.txt', 'pos/cv433_10144.txt', 'pos/cv434_5793.txt', 'pos/cv435_23110.txt', 'pos/cv436_19179.txt', 'pos/cv437_22849.txt', 'pos/cv438_8043.txt', 'pos/cv439_15970.txt', 'pos/cv440_15243.txt', 'pos/cv441_13711.txt', 'pos/cv442_13846.txt', 'pos/cv443_21118.txt', 'pos/cv444_9974.txt', 'pos/cv445_25882.txt', 'pos/cv446_11353.txt', 'pos/cv447_27332.txt', 'pos/cv448_14695.txt', 'pos/cv449_8785.txt', 'pos/cv450_7890.txt', 'pos/cv451_10690.txt', 'pos/cv452_5088.txt', 'pos/cv453_10379.txt', 'pos/cv454_2053.txt', 'pos/cv455_29000.txt', 'pos/cv456_18985.txt', 'pos/cv457_18453.txt', 'pos/cv458_8604.txt', 'pos/cv459_20319.txt', 'pos/cv460_10842.txt', 'pos/cv461_19600.txt', 'pos/cv462_19350.txt', 'pos/cv463_10343.txt', 'pos/cv464_15650.txt', 'pos/cv465_22431.txt', 'pos/cv466_18722.txt', 'pos/cv467_25773.txt', 'pos/cv468_15228.txt', 'pos/cv469_20630.txt', 'pos/cv470_15952.txt', 'pos/cv471_16858.txt', 'pos/cv472_29280.txt', 'pos/cv473_7367.txt', 'pos/cv474_10209.txt', 'pos/cv475_21692.txt', 'pos/cv476_16856.txt', 'pos/cv477_22479.txt', 'pos/cv478_14309.txt', 'pos/cv479_5649.txt', 'pos/cv480_19817.txt', 'pos/cv481_7436.txt', 'pos/cv482_10580.txt', 'pos/cv483_16378.txt', 'pos/cv484_25054.txt', 'pos/cv485_26649.txt', 'pos/cv486_9799.txt', 'pos/cv487_10446.txt', 'pos/cv488_19856.txt', 'pos/cv489_17906.txt', 'pos/cv490_17872.txt', 'pos/cv491_12145.txt', 'pos/cv492_18271.txt', 'pos/cv493_12839.txt', 'pos/cv494_17389.txt', 'pos/cv495_14518.txt', 'pos/cv496_10530.txt', 'pos/cv497_26980.txt', 'pos/cv498_8832.txt', 'pos/cv499_10658.txt', 'pos/cv500_10251.txt', 'pos/cv501_11657.txt', 'pos/cv502_10406.txt', 'pos/cv503_10558.txt', 'pos/cv504_29243.txt', 'pos/cv505_12090.txt', 'pos/cv506_15956.txt', 'pos/cv507_9220.txt', 'pos/cv508_16006.txt', 'pos/cv509_15888.txt', 'pos/cv510_23360.txt', 'pos/cv511_10132.txt', 'pos/cv512_15965.txt', 'pos/cv513_6923.txt', 'pos/cv514_11187.txt', 'pos/cv515_17069.txt', 'pos/cv516_11172.txt', 'pos/cv517_19219.txt', 'pos/cv518_13331.txt', 'pos/cv519_14661.txt', 'pos/cv520_12295.txt', 'pos/cv521_15828.txt', 'pos/cv522_5583.txt', 'pos/cv523_16615.txt', 'pos/cv524_23627.txt', 'pos/cv525_16122.txt', 'pos/cv526_12083.txt', 'pos/cv527_10123.txt', 'pos/cv528_10822.txt', 'pos/cv529_10420.txt', 'pos/cv530_16212.txt', 'pos/cv531_26486.txt', 'pos/cv532_6522.txt', 'pos/cv533_9821.txt', 'pos/cv534_14083.txt', 'pos/cv535_19728.txt', 'pos/cv536_27134.txt', 'pos/cv537_12370.txt', 'pos/cv538_28667.txt', 'pos/cv539_20347.txt', 'pos/cv540_3421.txt', 'pos/cv541_28835.txt', 'pos/cv542_18980.txt', 'pos/cv543_5045.txt', 'pos/cv544_5108.txt', 'pos/cv545_12014.txt', 'pos/cv546_11767.txt', 'pos/cv547_16324.txt', 'pos/cv548_17731.txt', 'pos/cv549_21443.txt', 'pos/cv550_22211.txt', 'pos/cv551_10565.txt', 'pos/cv552_10016.txt', 'pos/cv553_26915.txt', 'pos/cv554_13151.txt', 'pos/cv555_23922.txt', 'pos/cv556_14808.txt', 'pos/cv557_11449.txt', 'pos/cv558_29507.txt', 'pos/cv559_0050.txt', 'pos/cv560_17175.txt', 'pos/cv561_9201.txt', 'pos/cv562_10359.txt', 'pos/cv563_17257.txt', 'pos/cv564_11110.txt', 'pos/cv565_29572.txt', 'pos/cv566_8581.txt', 'pos/cv567_29611.txt', 'pos/cv568_15638.txt', 'pos/cv569_26381.txt', 'pos/cv570_29082.txt', 'pos/cv571_29366.txt', 'pos/cv572_18657.txt', 'pos/cv573_29525.txt', 'pos/cv574_22156.txt', 'pos/cv575_21150.txt', 'pos/cv576_14094.txt', 'pos/cv577_28549.txt', 'pos/cv578_15094.txt', 'pos/cv579_11605.txt', 'pos/cv580_14064.txt', 'pos/cv581_19381.txt', 'pos/cv582_6559.txt', 'pos/cv583_29692.txt', 'pos/cv584_29722.txt', 'pos/cv585_22496.txt', 'pos/cv586_7543.txt', 'pos/cv587_19162.txt', 'pos/cv588_13008.txt', 'pos/cv589_12064.txt', 'pos/cv590_19290.txt', 'pos/cv591_23640.txt', 'pos/cv592_22315.txt', 'pos/cv593_10987.txt', 'pos/cv594_11039.txt', 'pos/cv595_25335.txt', 'pos/cv596_28311.txt', 'pos/cv597_26360.txt', 'pos/cv598_16452.txt', 'pos/cv599_20988.txt', 'pos/cv600_23878.txt', 'pos/cv601_23453.txt', 'pos/cv602_8300.txt', 'pos/cv603_17694.txt', 'pos/cv604_2230.txt', 'pos/cv605_11800.txt', 'pos/cv606_15985.txt', 'pos/cv607_7717.txt', 'pos/cv608_23231.txt', 'pos/cv609_23877.txt', 'pos/cv610_2287.txt', 'pos/cv611_21120.txt', 'pos/cv612_5461.txt', 'pos/cv613_21796.txt', 'pos/cv614_10626.txt', 'pos/cv615_14182.txt', 'pos/cv616_29319.txt', 'pos/cv617_9322.txt', 'pos/cv618_8974.txt', 'pos/cv619_12462.txt', 'pos/cv620_24265.txt', 'pos/cv621_14368.txt', 'pos/cv622_8147.txt', 'pos/cv623_15356.txt', 'pos/cv624_10744.txt', 'pos/cv625_12440.txt', 'pos/cv626_7410.txt', 'pos/cv627_11620.txt', 'pos/cv628_19325.txt', 'pos/cv629_14909.txt', 'pos/cv630_10057.txt', 'pos/cv631_4967.txt', 'pos/cv632_9610.txt', 'pos/cv633_29837.txt', 'pos/cv634_11101.txt', 'pos/cv635_10022.txt', 'pos/cv636_15279.txt', 'pos/cv637_1250.txt', 'pos/cv638_2953.txt', 'pos/cv639_10308.txt', 'pos/cv640_5378.txt', 'pos/cv641_12349.txt', 'pos/cv642_29867.txt', 'pos/cv643_29349.txt', 'pos/cv644_17154.txt', 'pos/cv645_15668.txt', 'pos/cv646_15065.txt', 'pos/cv647_13691.txt', 'pos/cv648_15792.txt', 'pos/cv649_12735.txt', 'pos/cv650_14340.txt', 'pos/cv651_10492.txt', 'pos/cv652_13972.txt', 'pos/cv653_19583.txt', 'pos/cv654_18246.txt', 'pos/cv655_11154.txt', 'pos/cv656_24201.txt', 'pos/cv657_24513.txt', 'pos/cv658_10532.txt', 'pos/cv659_19944.txt', 'pos/cv660_21893.txt', 'pos/cv661_2450.txt', 'pos/cv662_13320.txt', 'pos/cv663_13019.txt', 'pos/cv664_4389.txt', 'pos/cv665_29538.txt', 'pos/cv666_18963.txt', 'pos/cv667_18467.txt', 'pos/cv668_17604.txt', 'pos/cv669_22995.txt', 'pos/cv670_25826.txt', 'pos/cv671_5054.txt', 'pos/cv672_28083.txt', 'pos/cv673_24714.txt', 'pos/cv674_10732.txt', 'pos/cv675_21588.txt', 'pos/cv676_21090.txt', 'pos/cv677_17715.txt', 'pos/cv678_13419.txt', 'pos/cv679_28559.txt', 'pos/cv680_10160.txt', 'pos/cv681_9692.txt', 'pos/cv682_16139.txt', 'pos/cv683_12167.txt', 'pos/cv684_11798.txt', 'pos/cv685_5947.txt', 'pos/cv686_13900.txt', 'pos/cv687_21100.txt', 'pos/cv688_7368.txt', 'pos/cv689_12587.txt', 'pos/cv690_5619.txt', 'pos/cv691_5043.txt', 'pos/cv692_15451.txt', 'pos/cv693_18063.txt', 'pos/cv694_4876.txt', 'pos/cv695_21108.txt', 'pos/cv696_29740.txt', 'pos/cv697_11162.txt', 'pos/cv698_15253.txt', 'pos/cv699_7223.txt', 'pos/cv700_21947.txt', 'pos/cv701_14252.txt', 'pos/cv702_11500.txt', 'pos/cv703_16143.txt', 'pos/cv704_15969.txt', 'pos/cv705_11059.txt', 'pos/cv706_24716.txt', 'pos/cv707_10678.txt', 'pos/cv708_28729.txt', 'pos/cv709_10529.txt', 'pos/cv710_22577.txt', 'pos/cv711_11665.txt', 'pos/cv712_22920.txt', 'pos/cv713_29155.txt', 'pos/cv714_18502.txt', 'pos/cv715_18179.txt', 'pos/cv716_10514.txt', 'pos/cv717_15953.txt', 'pos/cv718_11434.txt', 'pos/cv719_5713.txt', 'pos/cv720_5389.txt', 'pos/cv721_29121.txt', 'pos/cv722_7110.txt', 'pos/cv723_8648.txt', 'pos/cv724_13681.txt', 'pos/cv725_10103.txt', 'pos/cv726_4719.txt', 'pos/cv727_4978.txt', 'pos/cv728_16133.txt', 'pos/cv729_10154.txt', 'pos/cv730_10279.txt', 'pos/cv731_4136.txt', 'pos/cv732_12245.txt', 'pos/cv733_9839.txt', 'pos/cv734_21568.txt', 'pos/cv735_18801.txt', 'pos/cv736_23670.txt', 'pos/cv737_28907.txt', 'pos/cv738_10116.txt', 'pos/cv739_11209.txt', 'pos/cv740_12445.txt', 'pos/cv741_11890.txt', 'pos/cv742_7751.txt', 'pos/cv743_15449.txt', 'pos/cv744_10038.txt', 'pos/cv745_12773.txt', 'pos/cv746_10147.txt', 'pos/cv747_16556.txt', 'pos/cv748_12786.txt', 'pos/cv749_17765.txt', 'pos/cv750_10180.txt', 'pos/cv751_15719.txt', 'pos/cv752_24155.txt', 'pos/cv753_10875.txt', 'pos/cv754_7216.txt', 'pos/cv755_23616.txt', 'pos/cv756_22540.txt', 'pos/cv757_10189.txt', 'pos/cv758_9671.txt', 'pos/cv759_13522.txt', 'pos/cv760_8597.txt', 'pos/cv761_12620.txt', 'pos/cv762_13927.txt', 'pos/cv763_14729.txt', 'pos/cv764_11739.txt', 'pos/cv765_19037.txt', 'pos/cv766_7540.txt', 'pos/cv767_14062.txt', 'pos/cv768_11751.txt', 'pos/cv769_8123.txt', 'pos/cv770_10451.txt', 'pos/cv771_28665.txt', 'pos/cv772_12119.txt', 'pos/cv773_18817.txt', 'pos/cv774_13845.txt', 'pos/cv775_16237.txt', 'pos/cv776_20529.txt', 'pos/cv777_10094.txt', 'pos/cv778_17330.txt', 'pos/cv779_17881.txt', 'pos/cv780_7984.txt', 'pos/cv781_5262.txt', 'pos/cv782_19526.txt', 'pos/cv783_13227.txt', 'pos/cv784_14394.txt', 'pos/cv785_22600.txt', 'pos/cv786_22497.txt', 'pos/cv787_13743.txt', 'pos/cv788_25272.txt', 'pos/cv789_12136.txt', 'pos/cv790_14600.txt', 'pos/cv791_16302.txt', 'pos/cv792_3832.txt', 'pos/cv793_13650.txt', 'pos/cv794_15868.txt', 'pos/cv795_10122.txt', 'pos/cv796_15782.txt', 'pos/cv797_6957.txt', 'pos/cv798_23531.txt', 'pos/cv799_18543.txt', 'pos/cv800_12368.txt', 'pos/cv801_25228.txt', 'pos/cv802_28664.txt', 'pos/cv803_8207.txt', 'pos/cv804_10862.txt', 'pos/cv805_19601.txt', 'pos/cv806_8842.txt', 'pos/cv807_21740.txt', 'pos/cv808_12635.txt', 'pos/cv809_5009.txt', 'pos/cv810_12458.txt', 'pos/cv811_21386.txt', 'pos/cv812_17924.txt', 'pos/cv813_6534.txt', 'pos/cv814_18975.txt', 'pos/cv815_22456.txt', 'pos/cv816_13655.txt', 'pos/cv817_4041.txt', 'pos/cv818_10211.txt', 'pos/cv819_9364.txt', 'pos/cv820_22892.txt', 'pos/cv821_29364.txt', 'pos/cv822_20049.txt', 'pos/cv823_15569.txt', 'pos/cv824_8838.txt', 'pos/cv825_5063.txt', 'pos/cv826_11834.txt', 'pos/cv827_18331.txt', 'pos/cv828_19831.txt', 'pos/cv829_20289.txt', 'pos/cv830_6014.txt', 'pos/cv831_14689.txt', 'pos/cv832_23275.txt', 'pos/cv833_11053.txt', 'pos/cv834_22195.txt', 'pos/cv835_19159.txt', 'pos/cv836_12968.txt', 'pos/cv837_27325.txt', 'pos/cv838_24728.txt', 'pos/cv839_21467.txt', 'pos/cv840_16321.txt', 'pos/cv841_3967.txt', 'pos/cv842_5866.txt', 'pos/cv843_15544.txt', 'pos/cv844_12690.txt', 'pos/cv845_14290.txt', 'pos/cv846_29497.txt', 'pos/cv847_1941.txt', 'pos/cv848_10036.txt', 'pos/cv849_15729.txt', 'pos/cv850_16466.txt', 'pos/cv851_20469.txt', 'pos/cv852_27523.txt', 'pos/cv853_29233.txt', 'pos/cv854_17740.txt', 'pos/cv855_20661.txt', 'pos/cv856_29013.txt', 'pos/cv857_15958.txt', 'pos/cv858_18819.txt', 'pos/cv859_14107.txt', 'pos/cv860_13853.txt', 'pos/cv861_1198.txt', 'pos/cv862_14324.txt', 'pos/cv863_7424.txt', 'pos/cv864_3416.txt', 'pos/cv865_2895.txt', 'pos/cv866_29691.txt', 'pos/cv867_16661.txt', 'pos/cv868_11948.txt', 'pos/cv869_23611.txt', 'pos/cv870_16348.txt', 'pos/cv871_24888.txt', 'pos/cv872_12591.txt', 'pos/cv873_18636.txt', 'pos/cv874_11236.txt', 'pos/cv875_5754.txt', 'pos/cv876_9390.txt', 'pos/cv877_29274.txt', 'pos/cv878_15694.txt', 'pos/cv879_14903.txt', 'pos/cv880_29800.txt', 'pos/cv881_13254.txt', 'pos/cv882_10026.txt', 'pos/cv883_27751.txt', 'pos/cv884_13632.txt', 'pos/cv885_12318.txt', 'pos/cv886_18177.txt', 'pos/cv887_5126.txt', 'pos/cv888_24435.txt', 'pos/cv889_21430.txt', 'pos/cv890_3977.txt', 'pos/cv891_6385.txt', 'pos/cv892_17576.txt', 'pos/cv893_26269.txt', 'pos/cv894_2068.txt', 'pos/cv895_21022.txt', 'pos/cv896_16071.txt', 'pos/cv897_10837.txt', 'pos/cv898_14187.txt', 'pos/cv899_16014.txt', 'pos/cv900_10331.txt', 'pos/cv901_11017.txt', 'pos/cv902_12256.txt', 'pos/cv903_17822.txt', 'pos/cv904_24353.txt', 'pos/cv905_29114.txt', 'pos/cv906_11491.txt', 'pos/cv907_3541.txt', 'pos/cv908_16009.txt', 'pos/cv909_9960.txt', 'pos/cv910_20488.txt', 'pos/cv911_20260.txt', 'pos/cv912_5674.txt', 'pos/cv913_29252.txt', 'pos/cv914_28742.txt', 'pos/cv915_8841.txt', 'pos/cv916_15467.txt', 'pos/cv917_29715.txt', 'pos/cv918_2693.txt', 'pos/cv919_16380.txt', 'pos/cv920_29622.txt', 'pos/cv921_12747.txt', 'pos/cv922_10073.txt', 'pos/cv923_11051.txt', 'pos/cv924_29540.txt', 'pos/cv925_8969.txt', 'pos/cv926_17059.txt', 'pos/cv927_10681.txt', 'pos/cv928_9168.txt', 'pos/cv929_16908.txt', 'pos/cv930_13475.txt', 'pos/cv931_17563.txt', 'pos/cv932_13401.txt', 'pos/cv933_23776.txt', 'pos/cv934_19027.txt', 'pos/cv935_23841.txt', 'pos/cv936_15954.txt', 'pos/cv937_9811.txt', 'pos/cv938_10220.txt', 'pos/cv939_10583.txt', 'pos/cv940_17705.txt', 'pos/cv941_10246.txt', 'pos/cv942_17082.txt', 'pos/cv943_22488.txt', 'pos/cv944_13521.txt', 'pos/cv945_12160.txt', 'pos/cv946_18658.txt', 'pos/cv947_10601.txt', 'pos/cv948_24606.txt', 'pos/cv949_20112.txt', 'pos/cv950_12350.txt', 'pos/cv951_10926.txt', 'pos/cv952_25240.txt', 'pos/cv953_6836.txt', 'pos/cv954_18628.txt', 'pos/cv955_25001.txt', 'pos/cv956_11609.txt', 'pos/cv957_8737.txt', 'pos/cv958_12162.txt', 'pos/cv959_14611.txt', 'pos/cv960_29007.txt', 'pos/cv961_5682.txt', 'pos/cv962_9803.txt', 'pos/cv963_6895.txt', 'pos/cv964_6021.txt', 'pos/cv965_26071.txt', 'pos/cv966_28832.txt', 'pos/cv967_5788.txt', 'pos/cv968_24218.txt', 'pos/cv969_13250.txt', 'pos/cv970_18450.txt', 'pos/cv971_10874.txt', 'pos/cv972_26417.txt', 'pos/cv973_10066.txt', 'pos/cv974_22941.txt', 'pos/cv975_10981.txt', 'pos/cv976_10267.txt', 'pos/cv977_4938.txt', 'pos/cv978_20929.txt', 'pos/cv979_18921.txt', 'pos/cv980_10953.txt', 'pos/cv981_14989.txt', 'pos/cv982_21103.txt', 'pos/cv983_22928.txt', 'pos/cv984_12767.txt', 'pos/cv985_6359.txt', 'pos/cv986_13527.txt', 'pos/cv987_6965.txt', 'pos/cv988_18740.txt', 'pos/cv989_15824.txt', 'pos/cv990_11591.txt', 'pos/cv991_18645.txt', 'pos/cv992_11962.txt', 'pos/cv993_29737.txt', 'pos/cv994_12270.txt', 'pos/cv995_21821.txt', 'pos/cv996_11592.txt', 'pos/cv997_5046.txt', 'pos/cv998_14111.txt', 'pos/cv999_13106.txt']\n"
          ],
          "name": "stdout"
        }
      ]
    },
    {
      "cell_type": "code",
      "metadata": {
        "id": "FGtihxtZoebq",
        "colab_type": "code",
        "colab": {
          "base_uri": "https://localhost:8080/",
          "height": 51
        },
        "outputId": "ba616d95-e38c-47ef-846f-e39dd4eade32"
      },
      "source": [
        "print(len(movie_reviews.fileids('pos')))\n",
        "print(len(movie_reviews.fileids('neg')))"
      ],
      "execution_count": 60,
      "outputs": [
        {
          "output_type": "stream",
          "text": [
            "1000\n",
            "1000\n"
          ],
          "name": "stdout"
        }
      ]
    },
    {
      "cell_type": "code",
      "metadata": {
        "id": "MM6zLEYGo0wT",
        "colab_type": "code",
        "colab": {
          "base_uri": "https://localhost:8080/",
          "height": 34
        },
        "outputId": "cd04b92a-c8b5-4d75-c1b5-b0b65850c59e"
      },
      "source": [
        "review = nltk.corpus.movie_reviews.words('pos/cv000_29590.txt')\n",
        "review"
      ],
      "execution_count": 61,
      "outputs": [
        {
          "output_type": "execute_result",
          "data": {
            "text/plain": [
              "['films', 'adapted', 'from', 'comic', 'books', 'have', ...]"
            ]
          },
          "metadata": {
            "tags": []
          },
          "execution_count": 61
        }
      ]
    },
    {
      "cell_type": "markdown",
      "metadata": {
        "id": "56STHCckpEkA",
        "colab_type": "text"
      },
      "source": [
        "We can only use Count Vectorizer and TF-IDF approach in a string. so, out next target is to detokenize movie_reviews"
      ]
    },
    {
      "cell_type": "code",
      "metadata": {
        "id": "Hrh0p4GvpAuO",
        "colab_type": "code",
        "colab": {
          "base_uri": "https://localhost:8080/",
          "height": 51
        },
        "outputId": "30142f72-b67a-46c8-f586-e91f6fed163f"
      },
      "source": [
        "nltk.download('perluniprops')\n",
        "from nltk.tokenize.moses import MosesDetokenizer\n",
        "detokenizer = MosesDetokenizer()"
      ],
      "execution_count": 62,
      "outputs": [
        {
          "output_type": "stream",
          "text": [
            "[nltk_data] Downloading package perluniprops to /root/nltk_data...\n",
            "[nltk_data]   Unzipping misc/perluniprops.zip.\n"
          ],
          "name": "stdout"
        }
      ]
    },
    {
      "cell_type": "code",
      "metadata": {
        "id": "gdmTdr6hpt3R",
        "colab_type": "code",
        "colab": {
          "base_uri": "https://localhost:8080/",
          "height": 54
        },
        "outputId": "5a10fcd4-e994-4dba-c156-394b9e945e40"
      },
      "source": [
        "detokenizer.detokenize(review,return_str=True)"
      ],
      "execution_count": 63,
      "outputs": [
        {
          "output_type": "execute_result",
          "data": {
            "text/plain": [
              "'films adapted from comic books have had plenty of success, whether they \\'re about superheroes ( batman, superman, spawn), or geared toward kids ( casper) or the arthouse crowd ( ghost world), but there\\' s never really been a comic book like from hell before. for starters, it was created by alan moore ( and eddie campbell), who brought the medium to a whole new level in the mid \\'80s with a 12 - part series called the watchmen. to say moore and campbell thoroughly researched the subject of jack the ripper would be like saying michael jackson is starting to look a little odd. the book ( or \"graphic novel,\" if you will) is over 500 pages long and includes nearly 30 more that consist of nothing but footnotes. in other words, don\\' t dismiss this film because of its source. if you can get past the whole comic book thing, you might find another stumbling block in from hell \\'s directors, albert and allen hughes. getting the hughes brothers to direct this seems almost as ludicrous as casting carrot top in, well, anything, but riddle me this: who better to direct a film that\\' s set in the ghetto and features really violent street crime than the mad geniuses behind menace ii society? the ghetto in question is, of course, whitechapel in 1888 london \\'s east end. it\\' s a filthy, sooty place where the whores ( called \"unfortunates\") are starting to get a little nervous about this mysterious psychopath who has been carving through their profession with surgical precision. when the first stiff turns up, copper peter godley ( robbie coltrane, the world is not enough) calls in inspector frederick abberline ( johnny depp, blow) to crack the case. abberline, a widower, has prophetic dreams he unsuccessfully tries to quell with copious amounts of absinthe and opium. upon arriving in whitechapel, he befriends an unfortunate named mary kelly ( heather graham, say it isn \\'t so) and proceeds to investigate the horribly gruesome crimes that even the police surgeon can\\' t stomach. i don \\'t think anyone needs to be briefed on jack the ripper, so i won\\' t go into the particulars here, other than to say moore and campbell have a unique and interesting theory about both the identity of the killer and the reasons he chooses to slay. in the comic, they don \\'t bother cloaking the identity of the ripper, but screenwriters terry hayes ( vertical limit) and rafael yglesias ( les mis? rables) do a good job of keeping him hidden from viewers until the very end. it\\' s funny to watch the locals blindly point the finger of blame at jews and indians because, after all, an englishman could never be capable of committing such ghastly acts. and from hell \\'s ending had me whistling the stonecutters song from the simpsons for days ( \"who holds back the electric car / who made steve guttenberg a star?\"). don\\' t worry - it \\'ll all make sense when you see it. now onto from hell\\' s appearance: it \\'s certainly dark and bleak enough, and it\\' s surprising to see how much more it looks like a tim burton film than planet of the apes did ( at times, it seems like sleepy hollow 2). the print i saw wasn \\'t completely finished ( both color and music had not been finalized, so no comments about marilyn manson), but cinematographer peter deming ( don\\' t say a word) ably captures the dreariness of victorian - era london and helped make the flashy killing scenes remind me of the crazy flashbacks in twin peaks, even though the violence in the film pales in comparison to that in the black - and - white comic. oscar winner martin childs\\' ( shakespeare in love) production design turns the original prague surroundings into one creepy place. even the acting in from hell is solid, with the dreamy depp turning in a typically strong performance and deftly handling a british accent. ians holm ( joe gould \\'s secret) and richardson ( 102 dalmatians) log in great supporting roles, but the big surprise here is graham. i cringed the first time she opened her mouth, imagining her attempt at an irish accent, but it actually wasn\\' t half bad. the film, however, is all good. 2: 00 - r for strong violence / gore, sexuality, language and drug content'"
            ]
          },
          "metadata": {
            "tags": []
          },
          "execution_count": 63
        }
      ]
    },
    {
      "cell_type": "markdown",
      "metadata": {
        "id": "hpERTnQXimQP",
        "colab_type": "text"
      },
      "source": [
        "We can also use Join method to detokenize"
      ]
    },
    {
      "cell_type": "code",
      "metadata": {
        "id": "Ve_gnZceiWgE",
        "colab_type": "code",
        "colab": {}
      },
      "source": [
        "neg_rev = movie_reviews.fileids('neg')\n",
        "pos_rev = movie_reviews.fileids('pos')"
      ],
      "execution_count": 0,
      "outputs": []
    },
    {
      "cell_type": "code",
      "metadata": {
        "id": "0CLOvgE5GlIG",
        "colab_type": "code",
        "colab": {}
      },
      "source": [
        "rev_list = []\n",
        "for rev in neg_rev:\n",
        "    rev_text_neg = rev = nltk.corpus.movie_reviews.words(rev)\n",
        "    review_one_string = \" \".join(rev_text_neg)\n",
        "    review_one_string = review_one_string.replace(' ,' , ',')\n",
        "    review_one_string = review_one_string.replace(' .' , '.')\n",
        "    review_one_string = review_one_string.replace(\"\\' \" , \"'\")\n",
        "    review_one_string = review_one_string.replace(\" \\'\", \"'\")\n",
        "    rev_list.append(review_one_string)  "
      ],
      "execution_count": 0,
      "outputs": []
    },
    {
      "cell_type": "code",
      "metadata": {
        "id": "XSWzHtaVI6J4",
        "colab_type": "code",
        "colab": {
          "base_uri": "https://localhost:8080/",
          "height": 34
        },
        "outputId": "297ede83-417b-4106-b671-d633e50fba4d"
      },
      "source": [
        "len(rev_list)"
      ],
      "execution_count": 66,
      "outputs": [
        {
          "output_type": "execute_result",
          "data": {
            "text/plain": [
              "1000"
            ]
          },
          "metadata": {
            "tags": []
          },
          "execution_count": 66
        }
      ]
    },
    {
      "cell_type": "code",
      "metadata": {
        "id": "KT-Tii9KI8Tf",
        "colab_type": "code",
        "colab": {}
      },
      "source": [
        "# Now let's add positive reviews to rev_list\n",
        "for rev in pos_rev:\n",
        "  rev_text_pos = nltk.corpus.movie_reviews.words(rev)\n",
        "  review_one_string = \" \".join(rev_text_pos)\n",
        "  review_one_string = review_one_string.replace(' ,',',')\n",
        "  review_one_string = review_one_string.replace(' .','.')\n",
        "  review_one_string = review_one_string.replace(\"\\' \",\"'\")\n",
        "  review_one_string = review_one_string.replace(\" \\'\",\"'\")\n",
        "  rev_list.append(review_one_string)"
      ],
      "execution_count": 0,
      "outputs": []
    },
    {
      "cell_type": "code",
      "metadata": {
        "id": "RMInBihPJ500",
        "colab_type": "code",
        "colab": {
          "base_uri": "https://localhost:8080/",
          "height": 34
        },
        "outputId": "b11589fc-584c-4078-ffb4-0303b16056bf"
      },
      "source": [
        "len(rev_list)"
      ],
      "execution_count": 68,
      "outputs": [
        {
          "output_type": "execute_result",
          "data": {
            "text/plain": [
              "2000"
            ]
          },
          "metadata": {
            "tags": []
          },
          "execution_count": 68
        }
      ]
    },
    {
      "cell_type": "code",
      "metadata": {
        "id": "J_0pyXDaKB7G",
        "colab_type": "code",
        "colab": {}
      },
      "source": [
        "# Now, Let us create targets for positive reviews and Negative reviews\n",
        "neg_targets = np.zeros((1000,),dtype=np.int64)\n",
        "pos_targets = np.ones((1000,),dtype=np.int64)"
      ],
      "execution_count": 0,
      "outputs": []
    },
    {
      "cell_type": "code",
      "metadata": {
        "id": "NE7YX9D2KjBv",
        "colab_type": "code",
        "colab": {}
      },
      "source": [
        "target_list = []\n",
        "for neg_tar in neg_targets:\n",
        "  target_list.append(neg_tar)\n",
        "for pos_tar in pos_targets:\n",
        "  target_list.append(pos_tar)"
      ],
      "execution_count": 0,
      "outputs": []
    },
    {
      "cell_type": "code",
      "metadata": {
        "id": "V-xV_IgCLTV7",
        "colab_type": "code",
        "colab": {
          "base_uri": "https://localhost:8080/",
          "height": 34
        },
        "outputId": "b8b44499-fa3f-4075-daff-f4b71ab1f992"
      },
      "source": [
        "len(target_list)"
      ],
      "execution_count": 71,
      "outputs": [
        {
          "output_type": "execute_result",
          "data": {
            "text/plain": [
              "2000"
            ]
          },
          "metadata": {
            "tags": []
          },
          "execution_count": 71
        }
      ]
    },
    {
      "cell_type": "code",
      "metadata": {
        "id": "dw7PofA8LVf4",
        "colab_type": "code",
        "colab": {
          "base_uri": "https://localhost:8080/",
          "height": 119
        },
        "outputId": "605ee234-58eb-464f-b80c-c5f3095ea3fd"
      },
      "source": [
        "Target = pd.Series(target_list)\n",
        "Target.head()"
      ],
      "execution_count": 72,
      "outputs": [
        {
          "output_type": "execute_result",
          "data": {
            "text/plain": [
              "0    0\n",
              "1    0\n",
              "2    0\n",
              "3    0\n",
              "4    0\n",
              "dtype: int64"
            ]
          },
          "metadata": {
            "tags": []
          },
          "execution_count": 72
        }
      ]
    },
    {
      "cell_type": "markdown",
      "metadata": {
        "id": "f4ZGmj5KLzc2",
        "colab_type": "text"
      },
      "source": [
        "Now, Let's use Count Vectorizer"
      ]
    },
    {
      "cell_type": "code",
      "metadata": {
        "id": "PXBSsODALiEp",
        "colab_type": "code",
        "colab": {}
      },
      "source": [
        "count_vect = CountVectorizer(lowercase=True,min_df=2,stop_words='english')\n",
        "X_count_vect = count_vect.fit_transform(rev_list)"
      ],
      "execution_count": 0,
      "outputs": []
    },
    {
      "cell_type": "code",
      "metadata": {
        "id": "xbbo2pECMMqt",
        "colab_type": "code",
        "colab": {
          "base_uri": "https://localhost:8080/",
          "height": 34
        },
        "outputId": "b7ce486f-4732-44cc-8a66-1bde60fd677f"
      },
      "source": [
        "type(X_count_vect)"
      ],
      "execution_count": 74,
      "outputs": [
        {
          "output_type": "execute_result",
          "data": {
            "text/plain": [
              "scipy.sparse.csr.csr_matrix"
            ]
          },
          "metadata": {
            "tags": []
          },
          "execution_count": 74
        }
      ]
    },
    {
      "cell_type": "code",
      "metadata": {
        "id": "nxvybE-QMPbv",
        "colab_type": "code",
        "colab": {
          "base_uri": "https://localhost:8080/",
          "height": 34
        },
        "outputId": "d5636954-d798-4e39-f904-5d3db2b48d59"
      },
      "source": [
        "X_count_vect.shape"
      ],
      "execution_count": 75,
      "outputs": [
        {
          "output_type": "execute_result",
          "data": {
            "text/plain": [
              "(2000, 23784)"
            ]
          },
          "metadata": {
            "tags": []
          },
          "execution_count": 75
        }
      ]
    },
    {
      "cell_type": "code",
      "metadata": {
        "id": "Y6yzHqeyMR65",
        "colab_type": "code",
        "colab": {}
      },
      "source": [
        "dataframe = pd.DataFrame(X_count_vect.toarray(),columns=count_vect.get_feature_names())"
      ],
      "execution_count": 0,
      "outputs": []
    },
    {
      "cell_type": "code",
      "metadata": {
        "id": "jXDnjxJ1Mz8C",
        "colab_type": "code",
        "colab": {
          "base_uri": "https://localhost:8080/",
          "height": 253
        },
        "outputId": "78d8f74e-572e-40b8-9d9d-6a3f3e209cb1"
      },
      "source": [
        "dataframe.head()"
      ],
      "execution_count": 77,
      "outputs": [
        {
          "output_type": "execute_result",
          "data": {
            "text/html": [
              "<div>\n",
              "<style scoped>\n",
              "    .dataframe tbody tr th:only-of-type {\n",
              "        vertical-align: middle;\n",
              "    }\n",
              "\n",
              "    .dataframe tbody tr th {\n",
              "        vertical-align: top;\n",
              "    }\n",
              "\n",
              "    .dataframe thead th {\n",
              "        text-align: right;\n",
              "    }\n",
              "</style>\n",
              "<table border=\"1\" class=\"dataframe\">\n",
              "  <thead>\n",
              "    <tr style=\"text-align: right;\">\n",
              "      <th></th>\n",
              "      <th>00</th>\n",
              "      <th>000</th>\n",
              "      <th>007</th>\n",
              "      <th>05</th>\n",
              "      <th>10</th>\n",
              "      <th>100</th>\n",
              "      <th>1000</th>\n",
              "      <th>100m</th>\n",
              "      <th>101</th>\n",
              "      <th>102</th>\n",
              "      <th>103</th>\n",
              "      <th>105</th>\n",
              "      <th>106</th>\n",
              "      <th>107</th>\n",
              "      <th>108</th>\n",
              "      <th>10th</th>\n",
              "      <th>11</th>\n",
              "      <th>110</th>\n",
              "      <th>113</th>\n",
              "      <th>115</th>\n",
              "      <th>11th</th>\n",
              "      <th>12</th>\n",
              "      <th>126</th>\n",
              "      <th>129</th>\n",
              "      <th>13</th>\n",
              "      <th>130</th>\n",
              "      <th>132</th>\n",
              "      <th>137</th>\n",
              "      <th>13th</th>\n",
              "      <th>14</th>\n",
              "      <th>14th</th>\n",
              "      <th>15</th>\n",
              "      <th>150</th>\n",
              "      <th>1500s</th>\n",
              "      <th>155</th>\n",
              "      <th>15th</th>\n",
              "      <th>16</th>\n",
              "      <th>160</th>\n",
              "      <th>1600</th>\n",
              "      <th>161</th>\n",
              "      <th>...</th>\n",
              "      <th>zeik</th>\n",
              "      <th>zellweger</th>\n",
              "      <th>zemeckis</th>\n",
              "      <th>zen</th>\n",
              "      <th>zenith</th>\n",
              "      <th>zero</th>\n",
              "      <th>zeroing</th>\n",
              "      <th>zest</th>\n",
              "      <th>zeta</th>\n",
              "      <th>zeus</th>\n",
              "      <th>zhang</th>\n",
              "      <th>zhivago</th>\n",
              "      <th>zhou</th>\n",
              "      <th>ziggy</th>\n",
              "      <th>zilch</th>\n",
              "      <th>zimmer</th>\n",
              "      <th>zinger</th>\n",
              "      <th>zingers</th>\n",
              "      <th>zip</th>\n",
              "      <th>zippel</th>\n",
              "      <th>zipper</th>\n",
              "      <th>zippy</th>\n",
              "      <th>zoe</th>\n",
              "      <th>zombie</th>\n",
              "      <th>zombies</th>\n",
              "      <th>zone</th>\n",
              "      <th>zones</th>\n",
              "      <th>zoo</th>\n",
              "      <th>zoolander</th>\n",
              "      <th>zoologist</th>\n",
              "      <th>zoom</th>\n",
              "      <th>zooming</th>\n",
              "      <th>zooms</th>\n",
              "      <th>zoot</th>\n",
              "      <th>zorg</th>\n",
              "      <th>zorro</th>\n",
              "      <th>zucker</th>\n",
              "      <th>zuko</th>\n",
              "      <th>zwick</th>\n",
              "      <th>zwigoff</th>\n",
              "    </tr>\n",
              "  </thead>\n",
              "  <tbody>\n",
              "    <tr>\n",
              "      <th>0</th>\n",
              "      <td>0</td>\n",
              "      <td>0</td>\n",
              "      <td>0</td>\n",
              "      <td>0</td>\n",
              "      <td>10</td>\n",
              "      <td>0</td>\n",
              "      <td>0</td>\n",
              "      <td>0</td>\n",
              "      <td>0</td>\n",
              "      <td>0</td>\n",
              "      <td>0</td>\n",
              "      <td>0</td>\n",
              "      <td>0</td>\n",
              "      <td>0</td>\n",
              "      <td>0</td>\n",
              "      <td>0</td>\n",
              "      <td>0</td>\n",
              "      <td>0</td>\n",
              "      <td>0</td>\n",
              "      <td>0</td>\n",
              "      <td>0</td>\n",
              "      <td>0</td>\n",
              "      <td>0</td>\n",
              "      <td>0</td>\n",
              "      <td>0</td>\n",
              "      <td>0</td>\n",
              "      <td>0</td>\n",
              "      <td>0</td>\n",
              "      <td>0</td>\n",
              "      <td>0</td>\n",
              "      <td>0</td>\n",
              "      <td>0</td>\n",
              "      <td>0</td>\n",
              "      <td>0</td>\n",
              "      <td>0</td>\n",
              "      <td>0</td>\n",
              "      <td>0</td>\n",
              "      <td>0</td>\n",
              "      <td>0</td>\n",
              "      <td>0</td>\n",
              "      <td>...</td>\n",
              "      <td>0</td>\n",
              "      <td>0</td>\n",
              "      <td>0</td>\n",
              "      <td>0</td>\n",
              "      <td>0</td>\n",
              "      <td>0</td>\n",
              "      <td>0</td>\n",
              "      <td>0</td>\n",
              "      <td>0</td>\n",
              "      <td>0</td>\n",
              "      <td>0</td>\n",
              "      <td>0</td>\n",
              "      <td>0</td>\n",
              "      <td>0</td>\n",
              "      <td>0</td>\n",
              "      <td>0</td>\n",
              "      <td>0</td>\n",
              "      <td>0</td>\n",
              "      <td>0</td>\n",
              "      <td>0</td>\n",
              "      <td>0</td>\n",
              "      <td>0</td>\n",
              "      <td>0</td>\n",
              "      <td>0</td>\n",
              "      <td>0</td>\n",
              "      <td>0</td>\n",
              "      <td>0</td>\n",
              "      <td>0</td>\n",
              "      <td>0</td>\n",
              "      <td>0</td>\n",
              "      <td>0</td>\n",
              "      <td>0</td>\n",
              "      <td>0</td>\n",
              "      <td>0</td>\n",
              "      <td>0</td>\n",
              "      <td>0</td>\n",
              "      <td>0</td>\n",
              "      <td>0</td>\n",
              "      <td>0</td>\n",
              "      <td>0</td>\n",
              "    </tr>\n",
              "    <tr>\n",
              "      <th>1</th>\n",
              "      <td>0</td>\n",
              "      <td>0</td>\n",
              "      <td>0</td>\n",
              "      <td>0</td>\n",
              "      <td>0</td>\n",
              "      <td>0</td>\n",
              "      <td>0</td>\n",
              "      <td>0</td>\n",
              "      <td>0</td>\n",
              "      <td>0</td>\n",
              "      <td>0</td>\n",
              "      <td>0</td>\n",
              "      <td>0</td>\n",
              "      <td>0</td>\n",
              "      <td>0</td>\n",
              "      <td>0</td>\n",
              "      <td>0</td>\n",
              "      <td>0</td>\n",
              "      <td>0</td>\n",
              "      <td>0</td>\n",
              "      <td>0</td>\n",
              "      <td>0</td>\n",
              "      <td>0</td>\n",
              "      <td>0</td>\n",
              "      <td>0</td>\n",
              "      <td>0</td>\n",
              "      <td>0</td>\n",
              "      <td>0</td>\n",
              "      <td>0</td>\n",
              "      <td>0</td>\n",
              "      <td>0</td>\n",
              "      <td>0</td>\n",
              "      <td>0</td>\n",
              "      <td>0</td>\n",
              "      <td>0</td>\n",
              "      <td>0</td>\n",
              "      <td>0</td>\n",
              "      <td>0</td>\n",
              "      <td>0</td>\n",
              "      <td>0</td>\n",
              "      <td>...</td>\n",
              "      <td>0</td>\n",
              "      <td>0</td>\n",
              "      <td>0</td>\n",
              "      <td>0</td>\n",
              "      <td>0</td>\n",
              "      <td>0</td>\n",
              "      <td>0</td>\n",
              "      <td>0</td>\n",
              "      <td>0</td>\n",
              "      <td>0</td>\n",
              "      <td>0</td>\n",
              "      <td>0</td>\n",
              "      <td>0</td>\n",
              "      <td>0</td>\n",
              "      <td>0</td>\n",
              "      <td>0</td>\n",
              "      <td>0</td>\n",
              "      <td>0</td>\n",
              "      <td>0</td>\n",
              "      <td>0</td>\n",
              "      <td>0</td>\n",
              "      <td>0</td>\n",
              "      <td>0</td>\n",
              "      <td>0</td>\n",
              "      <td>0</td>\n",
              "      <td>0</td>\n",
              "      <td>0</td>\n",
              "      <td>0</td>\n",
              "      <td>0</td>\n",
              "      <td>0</td>\n",
              "      <td>0</td>\n",
              "      <td>0</td>\n",
              "      <td>0</td>\n",
              "      <td>0</td>\n",
              "      <td>0</td>\n",
              "      <td>0</td>\n",
              "      <td>0</td>\n",
              "      <td>0</td>\n",
              "      <td>0</td>\n",
              "      <td>0</td>\n",
              "    </tr>\n",
              "    <tr>\n",
              "      <th>2</th>\n",
              "      <td>0</td>\n",
              "      <td>0</td>\n",
              "      <td>0</td>\n",
              "      <td>0</td>\n",
              "      <td>0</td>\n",
              "      <td>0</td>\n",
              "      <td>0</td>\n",
              "      <td>0</td>\n",
              "      <td>0</td>\n",
              "      <td>0</td>\n",
              "      <td>0</td>\n",
              "      <td>0</td>\n",
              "      <td>0</td>\n",
              "      <td>0</td>\n",
              "      <td>0</td>\n",
              "      <td>0</td>\n",
              "      <td>0</td>\n",
              "      <td>0</td>\n",
              "      <td>0</td>\n",
              "      <td>0</td>\n",
              "      <td>0</td>\n",
              "      <td>0</td>\n",
              "      <td>0</td>\n",
              "      <td>0</td>\n",
              "      <td>0</td>\n",
              "      <td>0</td>\n",
              "      <td>0</td>\n",
              "      <td>0</td>\n",
              "      <td>0</td>\n",
              "      <td>0</td>\n",
              "      <td>0</td>\n",
              "      <td>0</td>\n",
              "      <td>0</td>\n",
              "      <td>0</td>\n",
              "      <td>0</td>\n",
              "      <td>0</td>\n",
              "      <td>0</td>\n",
              "      <td>0</td>\n",
              "      <td>0</td>\n",
              "      <td>0</td>\n",
              "      <td>...</td>\n",
              "      <td>0</td>\n",
              "      <td>0</td>\n",
              "      <td>0</td>\n",
              "      <td>0</td>\n",
              "      <td>0</td>\n",
              "      <td>0</td>\n",
              "      <td>0</td>\n",
              "      <td>0</td>\n",
              "      <td>0</td>\n",
              "      <td>0</td>\n",
              "      <td>0</td>\n",
              "      <td>0</td>\n",
              "      <td>0</td>\n",
              "      <td>0</td>\n",
              "      <td>0</td>\n",
              "      <td>0</td>\n",
              "      <td>0</td>\n",
              "      <td>0</td>\n",
              "      <td>0</td>\n",
              "      <td>0</td>\n",
              "      <td>0</td>\n",
              "      <td>0</td>\n",
              "      <td>0</td>\n",
              "      <td>0</td>\n",
              "      <td>0</td>\n",
              "      <td>0</td>\n",
              "      <td>0</td>\n",
              "      <td>0</td>\n",
              "      <td>0</td>\n",
              "      <td>0</td>\n",
              "      <td>0</td>\n",
              "      <td>0</td>\n",
              "      <td>0</td>\n",
              "      <td>0</td>\n",
              "      <td>0</td>\n",
              "      <td>0</td>\n",
              "      <td>0</td>\n",
              "      <td>0</td>\n",
              "      <td>0</td>\n",
              "      <td>0</td>\n",
              "    </tr>\n",
              "    <tr>\n",
              "      <th>3</th>\n",
              "      <td>0</td>\n",
              "      <td>0</td>\n",
              "      <td>0</td>\n",
              "      <td>0</td>\n",
              "      <td>0</td>\n",
              "      <td>0</td>\n",
              "      <td>0</td>\n",
              "      <td>0</td>\n",
              "      <td>0</td>\n",
              "      <td>0</td>\n",
              "      <td>0</td>\n",
              "      <td>0</td>\n",
              "      <td>0</td>\n",
              "      <td>0</td>\n",
              "      <td>0</td>\n",
              "      <td>0</td>\n",
              "      <td>0</td>\n",
              "      <td>0</td>\n",
              "      <td>0</td>\n",
              "      <td>0</td>\n",
              "      <td>0</td>\n",
              "      <td>0</td>\n",
              "      <td>0</td>\n",
              "      <td>0</td>\n",
              "      <td>0</td>\n",
              "      <td>0</td>\n",
              "      <td>0</td>\n",
              "      <td>0</td>\n",
              "      <td>0</td>\n",
              "      <td>0</td>\n",
              "      <td>0</td>\n",
              "      <td>0</td>\n",
              "      <td>0</td>\n",
              "      <td>0</td>\n",
              "      <td>0</td>\n",
              "      <td>0</td>\n",
              "      <td>0</td>\n",
              "      <td>0</td>\n",
              "      <td>0</td>\n",
              "      <td>0</td>\n",
              "      <td>...</td>\n",
              "      <td>0</td>\n",
              "      <td>0</td>\n",
              "      <td>0</td>\n",
              "      <td>0</td>\n",
              "      <td>0</td>\n",
              "      <td>0</td>\n",
              "      <td>0</td>\n",
              "      <td>0</td>\n",
              "      <td>0</td>\n",
              "      <td>0</td>\n",
              "      <td>0</td>\n",
              "      <td>0</td>\n",
              "      <td>0</td>\n",
              "      <td>0</td>\n",
              "      <td>0</td>\n",
              "      <td>0</td>\n",
              "      <td>0</td>\n",
              "      <td>0</td>\n",
              "      <td>0</td>\n",
              "      <td>0</td>\n",
              "      <td>0</td>\n",
              "      <td>0</td>\n",
              "      <td>0</td>\n",
              "      <td>0</td>\n",
              "      <td>0</td>\n",
              "      <td>0</td>\n",
              "      <td>0</td>\n",
              "      <td>0</td>\n",
              "      <td>0</td>\n",
              "      <td>0</td>\n",
              "      <td>0</td>\n",
              "      <td>0</td>\n",
              "      <td>0</td>\n",
              "      <td>0</td>\n",
              "      <td>0</td>\n",
              "      <td>0</td>\n",
              "      <td>0</td>\n",
              "      <td>0</td>\n",
              "      <td>0</td>\n",
              "      <td>0</td>\n",
              "    </tr>\n",
              "    <tr>\n",
              "      <th>4</th>\n",
              "      <td>0</td>\n",
              "      <td>0</td>\n",
              "      <td>0</td>\n",
              "      <td>0</td>\n",
              "      <td>0</td>\n",
              "      <td>0</td>\n",
              "      <td>0</td>\n",
              "      <td>0</td>\n",
              "      <td>0</td>\n",
              "      <td>0</td>\n",
              "      <td>0</td>\n",
              "      <td>0</td>\n",
              "      <td>0</td>\n",
              "      <td>0</td>\n",
              "      <td>0</td>\n",
              "      <td>0</td>\n",
              "      <td>0</td>\n",
              "      <td>0</td>\n",
              "      <td>0</td>\n",
              "      <td>0</td>\n",
              "      <td>0</td>\n",
              "      <td>0</td>\n",
              "      <td>0</td>\n",
              "      <td>0</td>\n",
              "      <td>0</td>\n",
              "      <td>0</td>\n",
              "      <td>0</td>\n",
              "      <td>0</td>\n",
              "      <td>0</td>\n",
              "      <td>0</td>\n",
              "      <td>0</td>\n",
              "      <td>0</td>\n",
              "      <td>0</td>\n",
              "      <td>0</td>\n",
              "      <td>0</td>\n",
              "      <td>0</td>\n",
              "      <td>0</td>\n",
              "      <td>0</td>\n",
              "      <td>0</td>\n",
              "      <td>0</td>\n",
              "      <td>...</td>\n",
              "      <td>0</td>\n",
              "      <td>0</td>\n",
              "      <td>0</td>\n",
              "      <td>0</td>\n",
              "      <td>0</td>\n",
              "      <td>0</td>\n",
              "      <td>0</td>\n",
              "      <td>0</td>\n",
              "      <td>0</td>\n",
              "      <td>0</td>\n",
              "      <td>0</td>\n",
              "      <td>0</td>\n",
              "      <td>0</td>\n",
              "      <td>0</td>\n",
              "      <td>0</td>\n",
              "      <td>0</td>\n",
              "      <td>0</td>\n",
              "      <td>0</td>\n",
              "      <td>0</td>\n",
              "      <td>0</td>\n",
              "      <td>0</td>\n",
              "      <td>0</td>\n",
              "      <td>0</td>\n",
              "      <td>0</td>\n",
              "      <td>0</td>\n",
              "      <td>0</td>\n",
              "      <td>0</td>\n",
              "      <td>0</td>\n",
              "      <td>0</td>\n",
              "      <td>0</td>\n",
              "      <td>0</td>\n",
              "      <td>0</td>\n",
              "      <td>0</td>\n",
              "      <td>0</td>\n",
              "      <td>0</td>\n",
              "      <td>0</td>\n",
              "      <td>0</td>\n",
              "      <td>0</td>\n",
              "      <td>0</td>\n",
              "      <td>0</td>\n",
              "    </tr>\n",
              "  </tbody>\n",
              "</table>\n",
              "<p>5 rows × 23784 columns</p>\n",
              "</div>"
            ],
            "text/plain": [
              "   00  000  007  05  10  100  ...  zorg  zorro  zucker  zuko  zwick  zwigoff\n",
              "0   0    0    0   0  10    0  ...     0      0       0     0      0        0\n",
              "1   0    0    0   0   0    0  ...     0      0       0     0      0        0\n",
              "2   0    0    0   0   0    0  ...     0      0       0     0      0        0\n",
              "3   0    0    0   0   0    0  ...     0      0       0     0      0        0\n",
              "4   0    0    0   0   0    0  ...     0      0       0     0      0        0\n",
              "\n",
              "[5 rows x 23784 columns]"
            ]
          },
          "metadata": {
            "tags": []
          },
          "execution_count": 77
        }
      ]
    },
    {
      "cell_type": "code",
      "metadata": {
        "id": "NJxXWuZ0M1cT",
        "colab_type": "code",
        "colab": {}
      },
      "source": [
        "from sklearn.model_selection import train_test_split\n",
        "from sklearn.metrics import confusion_matrix, accuracy_score"
      ],
      "execution_count": 0,
      "outputs": []
    },
    {
      "cell_type": "code",
      "metadata": {
        "id": "8RPIQHFANJMi",
        "colab_type": "code",
        "colab": {}
      },
      "source": [
        "x_train,x_test,y_train,y_test = train_test_split(dataframe,Target,test_size=0.2,random_state=42)"
      ],
      "execution_count": 0,
      "outputs": []
    },
    {
      "cell_type": "markdown",
      "metadata": {
        "id": "DMGbXPyTN48h",
        "colab_type": "text"
      },
      "source": [
        "Let's use Naive bayes Classifier"
      ]
    },
    {
      "cell_type": "code",
      "metadata": {
        "id": "h2kBrHUINfRk",
        "colab_type": "code",
        "colab": {}
      },
      "source": [
        "from sklearn.naive_bayes import MultinomialNB\n",
        "clf = MultinomialNB()"
      ],
      "execution_count": 0,
      "outputs": []
    },
    {
      "cell_type": "code",
      "metadata": {
        "id": "7QVkVZFiOB7T",
        "colab_type": "code",
        "colab": {
          "base_uri": "https://localhost:8080/",
          "height": 34
        },
        "outputId": "00afc134-e16e-4820-e386-24ce06d972c5"
      },
      "source": [
        "clf.fit(x_train,y_train)"
      ],
      "execution_count": 81,
      "outputs": [
        {
          "output_type": "execute_result",
          "data": {
            "text/plain": [
              "MultinomialNB(alpha=1.0, class_prior=None, fit_prior=True)"
            ]
          },
          "metadata": {
            "tags": []
          },
          "execution_count": 81
        }
      ]
    },
    {
      "cell_type": "code",
      "metadata": {
        "id": "_7hTAZvxOE0y",
        "colab_type": "code",
        "colab": {}
      },
      "source": [
        "y_pred = clf.predict(x_test)"
      ],
      "execution_count": 0,
      "outputs": []
    },
    {
      "cell_type": "code",
      "metadata": {
        "id": "qXXUB87wPEZh",
        "colab_type": "code",
        "colab": {
          "base_uri": "https://localhost:8080/",
          "height": 34
        },
        "outputId": "0b1017ae-8246-4979-a73a-a8c932a94d68"
      },
      "source": [
        "accuracy_score(y_test,y_pred)"
      ],
      "execution_count": 83,
      "outputs": [
        {
          "output_type": "execute_result",
          "data": {
            "text/plain": [
              "0.8"
            ]
          },
          "metadata": {
            "tags": []
          },
          "execution_count": 83
        }
      ]
    },
    {
      "cell_type": "code",
      "metadata": {
        "id": "J37prZsMPIdN",
        "colab_type": "code",
        "colab": {
          "base_uri": "https://localhost:8080/",
          "height": 51
        },
        "outputId": "11100ed5-f84b-4efc-a105-68aae86dd42f"
      },
      "source": [
        "confusion_matrix(y_test,y_pred)"
      ],
      "execution_count": 84,
      "outputs": [
        {
          "output_type": "execute_result",
          "data": {
            "text/plain": [
              "array([[169,  30],\n",
              "       [ 50, 151]])"
            ]
          },
          "metadata": {
            "tags": []
          },
          "execution_count": 84
        }
      ]
    },
    {
      "cell_type": "markdown",
      "metadata": {
        "id": "cSVlKmlM2rMt",
        "colab_type": "text"
      },
      "source": [
        "Now, Let's use Tf-Idf Approach"
      ]
    },
    {
      "cell_type": "code",
      "metadata": {
        "id": "aIIOkImOPM6Y",
        "colab_type": "code",
        "colab": {}
      },
      "source": [
        "tfidf_vect = TfidfVectorizer(min_df=1,stop_words='english',lowercase=True)"
      ],
      "execution_count": 0,
      "outputs": []
    },
    {
      "cell_type": "code",
      "metadata": {
        "id": "7DnfmB0w3JqC",
        "colab_type": "code",
        "colab": {}
      },
      "source": [
        "tfidf_count = tfidf_vect.fit_transform(rev_list)"
      ],
      "execution_count": 0,
      "outputs": []
    },
    {
      "cell_type": "code",
      "metadata": {
        "id": "qOcysNP23YS8",
        "colab_type": "code",
        "colab": {
          "base_uri": "https://localhost:8080/",
          "height": 34
        },
        "outputId": "f8d1e4d2-90eb-42cd-b181-cadc28e13b04"
      },
      "source": [
        "type(tfidf_count)"
      ],
      "execution_count": 87,
      "outputs": [
        {
          "output_type": "execute_result",
          "data": {
            "text/plain": [
              "scipy.sparse.csr.csr_matrix"
            ]
          },
          "metadata": {
            "tags": []
          },
          "execution_count": 87
        }
      ]
    },
    {
      "cell_type": "code",
      "metadata": {
        "id": "uVXVuFxF3cPx",
        "colab_type": "code",
        "colab": {
          "base_uri": "https://localhost:8080/",
          "height": 34
        },
        "outputId": "bf523eca-783e-4d0d-84ea-91ac60e696c5"
      },
      "source": [
        "tfidf_count.shape"
      ],
      "execution_count": 88,
      "outputs": [
        {
          "output_type": "execute_result",
          "data": {
            "text/plain": [
              "(2000, 39354)"
            ]
          },
          "metadata": {
            "tags": []
          },
          "execution_count": 88
        }
      ]
    },
    {
      "cell_type": "code",
      "metadata": {
        "id": "H-CKcx703etT",
        "colab_type": "code",
        "colab": {}
      },
      "source": [
        "tfidf_df = pd.DataFrame(tfidf_count.toarray(),columns=tfidf_vect.get_feature_names())"
      ],
      "execution_count": 0,
      "outputs": []
    },
    {
      "cell_type": "code",
      "metadata": {
        "id": "XHoFWG3e32qo",
        "colab_type": "code",
        "colab": {
          "base_uri": "https://localhost:8080/",
          "height": 253
        },
        "outputId": "5fe69cd2-e595-4432-8cb1-86543ec98ff7"
      },
      "source": [
        "tfidf_df.head()"
      ],
      "execution_count": 91,
      "outputs": [
        {
          "output_type": "execute_result",
          "data": {
            "text/html": [
              "<div>\n",
              "<style scoped>\n",
              "    .dataframe tbody tr th:only-of-type {\n",
              "        vertical-align: middle;\n",
              "    }\n",
              "\n",
              "    .dataframe tbody tr th {\n",
              "        vertical-align: top;\n",
              "    }\n",
              "\n",
              "    .dataframe thead th {\n",
              "        text-align: right;\n",
              "    }\n",
              "</style>\n",
              "<table border=\"1\" class=\"dataframe\">\n",
              "  <thead>\n",
              "    <tr style=\"text-align: right;\">\n",
              "      <th></th>\n",
              "      <th>00</th>\n",
              "      <th>000</th>\n",
              "      <th>0009f</th>\n",
              "      <th>007</th>\n",
              "      <th>00s</th>\n",
              "      <th>03</th>\n",
              "      <th>04</th>\n",
              "      <th>05</th>\n",
              "      <th>05425</th>\n",
              "      <th>10</th>\n",
              "      <th>100</th>\n",
              "      <th>1000</th>\n",
              "      <th>10000</th>\n",
              "      <th>100m</th>\n",
              "      <th>101</th>\n",
              "      <th>102</th>\n",
              "      <th>103</th>\n",
              "      <th>104</th>\n",
              "      <th>105</th>\n",
              "      <th>106</th>\n",
              "      <th>107</th>\n",
              "      <th>108</th>\n",
              "      <th>109</th>\n",
              "      <th>10b</th>\n",
              "      <th>10s</th>\n",
              "      <th>10th</th>\n",
              "      <th>11</th>\n",
              "      <th>110</th>\n",
              "      <th>111</th>\n",
              "      <th>112</th>\n",
              "      <th>113</th>\n",
              "      <th>1138</th>\n",
              "      <th>114</th>\n",
              "      <th>115</th>\n",
              "      <th>117</th>\n",
              "      <th>118</th>\n",
              "      <th>11th</th>\n",
              "      <th>12</th>\n",
              "      <th>121</th>\n",
              "      <th>122</th>\n",
              "      <th>...</th>\n",
              "      <th>zipper</th>\n",
              "      <th>zippers</th>\n",
              "      <th>zippy</th>\n",
              "      <th>zips</th>\n",
              "      <th>zit</th>\n",
              "      <th>ziyi</th>\n",
              "      <th>zodiac</th>\n",
              "      <th>zoe</th>\n",
              "      <th>zombie</th>\n",
              "      <th>zombies</th>\n",
              "      <th>zombified</th>\n",
              "      <th>zone</th>\n",
              "      <th>zones</th>\n",
              "      <th>zoo</th>\n",
              "      <th>zookeeper</th>\n",
              "      <th>zookeepers</th>\n",
              "      <th>zoolander</th>\n",
              "      <th>zoologist</th>\n",
              "      <th>zoologists</th>\n",
              "      <th>zoom</th>\n",
              "      <th>zooming</th>\n",
              "      <th>zooms</th>\n",
              "      <th>zoot</th>\n",
              "      <th>zophres</th>\n",
              "      <th>zorg</th>\n",
              "      <th>zorro</th>\n",
              "      <th>zsigmond</th>\n",
              "      <th>zucker</th>\n",
              "      <th>zuehlke</th>\n",
              "      <th>zuko</th>\n",
              "      <th>zukovsky</th>\n",
              "      <th>zulu</th>\n",
              "      <th>zundel</th>\n",
              "      <th>zurg</th>\n",
              "      <th>zus</th>\n",
              "      <th>zweibel</th>\n",
              "      <th>zwick</th>\n",
              "      <th>zwigoff</th>\n",
              "      <th>zycie</th>\n",
              "      <th>zzzzzzz</th>\n",
              "    </tr>\n",
              "  </thead>\n",
              "  <tbody>\n",
              "    <tr>\n",
              "      <th>0</th>\n",
              "      <td>0.0</td>\n",
              "      <td>0.0</td>\n",
              "      <td>0.0</td>\n",
              "      <td>0.0</td>\n",
              "      <td>0.0</td>\n",
              "      <td>0.0</td>\n",
              "      <td>0.0</td>\n",
              "      <td>0.0</td>\n",
              "      <td>0.0</td>\n",
              "      <td>0.395189</td>\n",
              "      <td>0.0</td>\n",
              "      <td>0.0</td>\n",
              "      <td>0.0</td>\n",
              "      <td>0.0</td>\n",
              "      <td>0.0</td>\n",
              "      <td>0.0</td>\n",
              "      <td>0.0</td>\n",
              "      <td>0.0</td>\n",
              "      <td>0.0</td>\n",
              "      <td>0.0</td>\n",
              "      <td>0.0</td>\n",
              "      <td>0.0</td>\n",
              "      <td>0.0</td>\n",
              "      <td>0.0</td>\n",
              "      <td>0.0</td>\n",
              "      <td>0.0</td>\n",
              "      <td>0.0</td>\n",
              "      <td>0.0</td>\n",
              "      <td>0.0</td>\n",
              "      <td>0.0</td>\n",
              "      <td>0.0</td>\n",
              "      <td>0.0</td>\n",
              "      <td>0.0</td>\n",
              "      <td>0.0</td>\n",
              "      <td>0.0</td>\n",
              "      <td>0.0</td>\n",
              "      <td>0.0</td>\n",
              "      <td>0.0</td>\n",
              "      <td>0.0</td>\n",
              "      <td>0.0</td>\n",
              "      <td>...</td>\n",
              "      <td>0.0</td>\n",
              "      <td>0.0</td>\n",
              "      <td>0.0</td>\n",
              "      <td>0.0</td>\n",
              "      <td>0.0</td>\n",
              "      <td>0.0</td>\n",
              "      <td>0.0</td>\n",
              "      <td>0.0</td>\n",
              "      <td>0.0</td>\n",
              "      <td>0.0</td>\n",
              "      <td>0.0</td>\n",
              "      <td>0.0</td>\n",
              "      <td>0.0</td>\n",
              "      <td>0.0</td>\n",
              "      <td>0.0</td>\n",
              "      <td>0.0</td>\n",
              "      <td>0.0</td>\n",
              "      <td>0.0</td>\n",
              "      <td>0.0</td>\n",
              "      <td>0.0</td>\n",
              "      <td>0.0</td>\n",
              "      <td>0.0</td>\n",
              "      <td>0.0</td>\n",
              "      <td>0.0</td>\n",
              "      <td>0.0</td>\n",
              "      <td>0.0</td>\n",
              "      <td>0.0</td>\n",
              "      <td>0.0</td>\n",
              "      <td>0.0</td>\n",
              "      <td>0.0</td>\n",
              "      <td>0.0</td>\n",
              "      <td>0.0</td>\n",
              "      <td>0.0</td>\n",
              "      <td>0.0</td>\n",
              "      <td>0.0</td>\n",
              "      <td>0.0</td>\n",
              "      <td>0.0</td>\n",
              "      <td>0.0</td>\n",
              "      <td>0.0</td>\n",
              "      <td>0.0</td>\n",
              "    </tr>\n",
              "    <tr>\n",
              "      <th>1</th>\n",
              "      <td>0.0</td>\n",
              "      <td>0.0</td>\n",
              "      <td>0.0</td>\n",
              "      <td>0.0</td>\n",
              "      <td>0.0</td>\n",
              "      <td>0.0</td>\n",
              "      <td>0.0</td>\n",
              "      <td>0.0</td>\n",
              "      <td>0.0</td>\n",
              "      <td>0.000000</td>\n",
              "      <td>0.0</td>\n",
              "      <td>0.0</td>\n",
              "      <td>0.0</td>\n",
              "      <td>0.0</td>\n",
              "      <td>0.0</td>\n",
              "      <td>0.0</td>\n",
              "      <td>0.0</td>\n",
              "      <td>0.0</td>\n",
              "      <td>0.0</td>\n",
              "      <td>0.0</td>\n",
              "      <td>0.0</td>\n",
              "      <td>0.0</td>\n",
              "      <td>0.0</td>\n",
              "      <td>0.0</td>\n",
              "      <td>0.0</td>\n",
              "      <td>0.0</td>\n",
              "      <td>0.0</td>\n",
              "      <td>0.0</td>\n",
              "      <td>0.0</td>\n",
              "      <td>0.0</td>\n",
              "      <td>0.0</td>\n",
              "      <td>0.0</td>\n",
              "      <td>0.0</td>\n",
              "      <td>0.0</td>\n",
              "      <td>0.0</td>\n",
              "      <td>0.0</td>\n",
              "      <td>0.0</td>\n",
              "      <td>0.0</td>\n",
              "      <td>0.0</td>\n",
              "      <td>0.0</td>\n",
              "      <td>...</td>\n",
              "      <td>0.0</td>\n",
              "      <td>0.0</td>\n",
              "      <td>0.0</td>\n",
              "      <td>0.0</td>\n",
              "      <td>0.0</td>\n",
              "      <td>0.0</td>\n",
              "      <td>0.0</td>\n",
              "      <td>0.0</td>\n",
              "      <td>0.0</td>\n",
              "      <td>0.0</td>\n",
              "      <td>0.0</td>\n",
              "      <td>0.0</td>\n",
              "      <td>0.0</td>\n",
              "      <td>0.0</td>\n",
              "      <td>0.0</td>\n",
              "      <td>0.0</td>\n",
              "      <td>0.0</td>\n",
              "      <td>0.0</td>\n",
              "      <td>0.0</td>\n",
              "      <td>0.0</td>\n",
              "      <td>0.0</td>\n",
              "      <td>0.0</td>\n",
              "      <td>0.0</td>\n",
              "      <td>0.0</td>\n",
              "      <td>0.0</td>\n",
              "      <td>0.0</td>\n",
              "      <td>0.0</td>\n",
              "      <td>0.0</td>\n",
              "      <td>0.0</td>\n",
              "      <td>0.0</td>\n",
              "      <td>0.0</td>\n",
              "      <td>0.0</td>\n",
              "      <td>0.0</td>\n",
              "      <td>0.0</td>\n",
              "      <td>0.0</td>\n",
              "      <td>0.0</td>\n",
              "      <td>0.0</td>\n",
              "      <td>0.0</td>\n",
              "      <td>0.0</td>\n",
              "      <td>0.0</td>\n",
              "    </tr>\n",
              "    <tr>\n",
              "      <th>2</th>\n",
              "      <td>0.0</td>\n",
              "      <td>0.0</td>\n",
              "      <td>0.0</td>\n",
              "      <td>0.0</td>\n",
              "      <td>0.0</td>\n",
              "      <td>0.0</td>\n",
              "      <td>0.0</td>\n",
              "      <td>0.0</td>\n",
              "      <td>0.0</td>\n",
              "      <td>0.000000</td>\n",
              "      <td>0.0</td>\n",
              "      <td>0.0</td>\n",
              "      <td>0.0</td>\n",
              "      <td>0.0</td>\n",
              "      <td>0.0</td>\n",
              "      <td>0.0</td>\n",
              "      <td>0.0</td>\n",
              "      <td>0.0</td>\n",
              "      <td>0.0</td>\n",
              "      <td>0.0</td>\n",
              "      <td>0.0</td>\n",
              "      <td>0.0</td>\n",
              "      <td>0.0</td>\n",
              "      <td>0.0</td>\n",
              "      <td>0.0</td>\n",
              "      <td>0.0</td>\n",
              "      <td>0.0</td>\n",
              "      <td>0.0</td>\n",
              "      <td>0.0</td>\n",
              "      <td>0.0</td>\n",
              "      <td>0.0</td>\n",
              "      <td>0.0</td>\n",
              "      <td>0.0</td>\n",
              "      <td>0.0</td>\n",
              "      <td>0.0</td>\n",
              "      <td>0.0</td>\n",
              "      <td>0.0</td>\n",
              "      <td>0.0</td>\n",
              "      <td>0.0</td>\n",
              "      <td>0.0</td>\n",
              "      <td>...</td>\n",
              "      <td>0.0</td>\n",
              "      <td>0.0</td>\n",
              "      <td>0.0</td>\n",
              "      <td>0.0</td>\n",
              "      <td>0.0</td>\n",
              "      <td>0.0</td>\n",
              "      <td>0.0</td>\n",
              "      <td>0.0</td>\n",
              "      <td>0.0</td>\n",
              "      <td>0.0</td>\n",
              "      <td>0.0</td>\n",
              "      <td>0.0</td>\n",
              "      <td>0.0</td>\n",
              "      <td>0.0</td>\n",
              "      <td>0.0</td>\n",
              "      <td>0.0</td>\n",
              "      <td>0.0</td>\n",
              "      <td>0.0</td>\n",
              "      <td>0.0</td>\n",
              "      <td>0.0</td>\n",
              "      <td>0.0</td>\n",
              "      <td>0.0</td>\n",
              "      <td>0.0</td>\n",
              "      <td>0.0</td>\n",
              "      <td>0.0</td>\n",
              "      <td>0.0</td>\n",
              "      <td>0.0</td>\n",
              "      <td>0.0</td>\n",
              "      <td>0.0</td>\n",
              "      <td>0.0</td>\n",
              "      <td>0.0</td>\n",
              "      <td>0.0</td>\n",
              "      <td>0.0</td>\n",
              "      <td>0.0</td>\n",
              "      <td>0.0</td>\n",
              "      <td>0.0</td>\n",
              "      <td>0.0</td>\n",
              "      <td>0.0</td>\n",
              "      <td>0.0</td>\n",
              "      <td>0.0</td>\n",
              "    </tr>\n",
              "    <tr>\n",
              "      <th>3</th>\n",
              "      <td>0.0</td>\n",
              "      <td>0.0</td>\n",
              "      <td>0.0</td>\n",
              "      <td>0.0</td>\n",
              "      <td>0.0</td>\n",
              "      <td>0.0</td>\n",
              "      <td>0.0</td>\n",
              "      <td>0.0</td>\n",
              "      <td>0.0</td>\n",
              "      <td>0.000000</td>\n",
              "      <td>0.0</td>\n",
              "      <td>0.0</td>\n",
              "      <td>0.0</td>\n",
              "      <td>0.0</td>\n",
              "      <td>0.0</td>\n",
              "      <td>0.0</td>\n",
              "      <td>0.0</td>\n",
              "      <td>0.0</td>\n",
              "      <td>0.0</td>\n",
              "      <td>0.0</td>\n",
              "      <td>0.0</td>\n",
              "      <td>0.0</td>\n",
              "      <td>0.0</td>\n",
              "      <td>0.0</td>\n",
              "      <td>0.0</td>\n",
              "      <td>0.0</td>\n",
              "      <td>0.0</td>\n",
              "      <td>0.0</td>\n",
              "      <td>0.0</td>\n",
              "      <td>0.0</td>\n",
              "      <td>0.0</td>\n",
              "      <td>0.0</td>\n",
              "      <td>0.0</td>\n",
              "      <td>0.0</td>\n",
              "      <td>0.0</td>\n",
              "      <td>0.0</td>\n",
              "      <td>0.0</td>\n",
              "      <td>0.0</td>\n",
              "      <td>0.0</td>\n",
              "      <td>0.0</td>\n",
              "      <td>...</td>\n",
              "      <td>0.0</td>\n",
              "      <td>0.0</td>\n",
              "      <td>0.0</td>\n",
              "      <td>0.0</td>\n",
              "      <td>0.0</td>\n",
              "      <td>0.0</td>\n",
              "      <td>0.0</td>\n",
              "      <td>0.0</td>\n",
              "      <td>0.0</td>\n",
              "      <td>0.0</td>\n",
              "      <td>0.0</td>\n",
              "      <td>0.0</td>\n",
              "      <td>0.0</td>\n",
              "      <td>0.0</td>\n",
              "      <td>0.0</td>\n",
              "      <td>0.0</td>\n",
              "      <td>0.0</td>\n",
              "      <td>0.0</td>\n",
              "      <td>0.0</td>\n",
              "      <td>0.0</td>\n",
              "      <td>0.0</td>\n",
              "      <td>0.0</td>\n",
              "      <td>0.0</td>\n",
              "      <td>0.0</td>\n",
              "      <td>0.0</td>\n",
              "      <td>0.0</td>\n",
              "      <td>0.0</td>\n",
              "      <td>0.0</td>\n",
              "      <td>0.0</td>\n",
              "      <td>0.0</td>\n",
              "      <td>0.0</td>\n",
              "      <td>0.0</td>\n",
              "      <td>0.0</td>\n",
              "      <td>0.0</td>\n",
              "      <td>0.0</td>\n",
              "      <td>0.0</td>\n",
              "      <td>0.0</td>\n",
              "      <td>0.0</td>\n",
              "      <td>0.0</td>\n",
              "      <td>0.0</td>\n",
              "    </tr>\n",
              "    <tr>\n",
              "      <th>4</th>\n",
              "      <td>0.0</td>\n",
              "      <td>0.0</td>\n",
              "      <td>0.0</td>\n",
              "      <td>0.0</td>\n",
              "      <td>0.0</td>\n",
              "      <td>0.0</td>\n",
              "      <td>0.0</td>\n",
              "      <td>0.0</td>\n",
              "      <td>0.0</td>\n",
              "      <td>0.000000</td>\n",
              "      <td>0.0</td>\n",
              "      <td>0.0</td>\n",
              "      <td>0.0</td>\n",
              "      <td>0.0</td>\n",
              "      <td>0.0</td>\n",
              "      <td>0.0</td>\n",
              "      <td>0.0</td>\n",
              "      <td>0.0</td>\n",
              "      <td>0.0</td>\n",
              "      <td>0.0</td>\n",
              "      <td>0.0</td>\n",
              "      <td>0.0</td>\n",
              "      <td>0.0</td>\n",
              "      <td>0.0</td>\n",
              "      <td>0.0</td>\n",
              "      <td>0.0</td>\n",
              "      <td>0.0</td>\n",
              "      <td>0.0</td>\n",
              "      <td>0.0</td>\n",
              "      <td>0.0</td>\n",
              "      <td>0.0</td>\n",
              "      <td>0.0</td>\n",
              "      <td>0.0</td>\n",
              "      <td>0.0</td>\n",
              "      <td>0.0</td>\n",
              "      <td>0.0</td>\n",
              "      <td>0.0</td>\n",
              "      <td>0.0</td>\n",
              "      <td>0.0</td>\n",
              "      <td>0.0</td>\n",
              "      <td>...</td>\n",
              "      <td>0.0</td>\n",
              "      <td>0.0</td>\n",
              "      <td>0.0</td>\n",
              "      <td>0.0</td>\n",
              "      <td>0.0</td>\n",
              "      <td>0.0</td>\n",
              "      <td>0.0</td>\n",
              "      <td>0.0</td>\n",
              "      <td>0.0</td>\n",
              "      <td>0.0</td>\n",
              "      <td>0.0</td>\n",
              "      <td>0.0</td>\n",
              "      <td>0.0</td>\n",
              "      <td>0.0</td>\n",
              "      <td>0.0</td>\n",
              "      <td>0.0</td>\n",
              "      <td>0.0</td>\n",
              "      <td>0.0</td>\n",
              "      <td>0.0</td>\n",
              "      <td>0.0</td>\n",
              "      <td>0.0</td>\n",
              "      <td>0.0</td>\n",
              "      <td>0.0</td>\n",
              "      <td>0.0</td>\n",
              "      <td>0.0</td>\n",
              "      <td>0.0</td>\n",
              "      <td>0.0</td>\n",
              "      <td>0.0</td>\n",
              "      <td>0.0</td>\n",
              "      <td>0.0</td>\n",
              "      <td>0.0</td>\n",
              "      <td>0.0</td>\n",
              "      <td>0.0</td>\n",
              "      <td>0.0</td>\n",
              "      <td>0.0</td>\n",
              "      <td>0.0</td>\n",
              "      <td>0.0</td>\n",
              "      <td>0.0</td>\n",
              "      <td>0.0</td>\n",
              "      <td>0.0</td>\n",
              "    </tr>\n",
              "  </tbody>\n",
              "</table>\n",
              "<p>5 rows × 39354 columns</p>\n",
              "</div>"
            ],
            "text/plain": [
              "    00  000  0009f  007  00s   03  ...  zus  zweibel  zwick  zwigoff  zycie  zzzzzzz\n",
              "0  0.0  0.0    0.0  0.0  0.0  0.0  ...  0.0      0.0    0.0      0.0    0.0      0.0\n",
              "1  0.0  0.0    0.0  0.0  0.0  0.0  ...  0.0      0.0    0.0      0.0    0.0      0.0\n",
              "2  0.0  0.0    0.0  0.0  0.0  0.0  ...  0.0      0.0    0.0      0.0    0.0      0.0\n",
              "3  0.0  0.0    0.0  0.0  0.0  0.0  ...  0.0      0.0    0.0      0.0    0.0      0.0\n",
              "4  0.0  0.0    0.0  0.0  0.0  0.0  ...  0.0      0.0    0.0      0.0    0.0      0.0\n",
              "\n",
              "[5 rows x 39354 columns]"
            ]
          },
          "metadata": {
            "tags": []
          },
          "execution_count": 91
        }
      ]
    },
    {
      "cell_type": "code",
      "metadata": {
        "id": "EvOOPsOd3-Mm",
        "colab_type": "code",
        "colab": {}
      },
      "source": [
        "x_train_tf,x_test_tf,y_train_tf,y_test_tf = train_test_split(tfidf_df,Target,test_size=0.2,random_state=42)"
      ],
      "execution_count": 0,
      "outputs": []
    },
    {
      "cell_type": "code",
      "metadata": {
        "id": "0Tv-dabU4VFX",
        "colab_type": "code",
        "colab": {
          "base_uri": "https://localhost:8080/",
          "height": 34
        },
        "outputId": "e06fadf8-3501-4c57-a057-4edc823fdd92"
      },
      "source": [
        "clf.fit(x_train_tf,y_train_tf)"
      ],
      "execution_count": 93,
      "outputs": [
        {
          "output_type": "execute_result",
          "data": {
            "text/plain": [
              "MultinomialNB(alpha=1.0, class_prior=None, fit_prior=True)"
            ]
          },
          "metadata": {
            "tags": []
          },
          "execution_count": 93
        }
      ]
    },
    {
      "cell_type": "code",
      "metadata": {
        "id": "Qd1sJOeJ4hy6",
        "colab_type": "code",
        "colab": {}
      },
      "source": [
        "y_pred_tf = clf.predict(x_test_tf)"
      ],
      "execution_count": 0,
      "outputs": []
    },
    {
      "cell_type": "code",
      "metadata": {
        "id": "HjSx1VDT4pLn",
        "colab_type": "code",
        "colab": {
          "base_uri": "https://localhost:8080/",
          "height": 34
        },
        "outputId": "2a0f5858-2aa0-450c-c302-a4bbb7e5f849"
      },
      "source": [
        "accuracy_score(y_test_tf,y_pred_tf)"
      ],
      "execution_count": 95,
      "outputs": [
        {
          "output_type": "execute_result",
          "data": {
            "text/plain": [
              "0.805"
            ]
          },
          "metadata": {
            "tags": []
          },
          "execution_count": 95
        }
      ]
    },
    {
      "cell_type": "code",
      "metadata": {
        "id": "-d-FgPJ_4sr0",
        "colab_type": "code",
        "colab": {
          "base_uri": "https://localhost:8080/",
          "height": 51
        },
        "outputId": "891ea4d0-0196-4582-af90-a99c65112cd0"
      },
      "source": [
        "confusion_matrix(y_test_tf,y_pred_tf)"
      ],
      "execution_count": 96,
      "outputs": [
        {
          "output_type": "execute_result",
          "data": {
            "text/plain": [
              "array([[170,  29],\n",
              "       [ 49, 152]])"
            ]
          },
          "metadata": {
            "tags": []
          },
          "execution_count": 96
        }
      ]
    },
    {
      "cell_type": "code",
      "metadata": {
        "id": "pYIRas3O4xbJ",
        "colab_type": "code",
        "colab": {}
      },
      "source": [
        ""
      ],
      "execution_count": 0,
      "outputs": []
    }
  ]
}